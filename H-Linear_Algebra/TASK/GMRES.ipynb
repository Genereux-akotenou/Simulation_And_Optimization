{
 "cells": [
  {
   "cell_type": "markdown",
   "id": "d3bf1c26-4f7d-4a59-bf37-4942819b3e07",
   "metadata": {},
   "source": [
    "GMRES"
   ]
  },
  {
   "cell_type": "code",
   "execution_count": 3,
   "id": "ae54bdb8-1315-4e1a-bacd-3ee96fb93434",
   "metadata": {},
   "outputs": [],
   "source": [
    "import numpy as np\n"
   ]
  },
  {
   "cell_type": "code",
   "execution_count": 11,
   "id": "ea1ffd21-6f47-4ff2-a512-f6e1e4112034",
   "metadata": {},
   "outputs": [],
   "source": [
    "# Problem data\n",
    "A = np.array([[5, 2, 3], [2, 4, 1], [3, 1, 6]])\n",
    "b = np.array([5, 1, -1])\n",
    "x0 = np.array([1, 1, 1])\n",
    "\n",
    "# MODIFIED GRAMSMIDT RPOCESS\n",
    "def modified_gram_schmidt(A, b, x0):\n",
    "    r0 = b - np.dot(A, x0)\n",
    "    b  = np.linalg.norm(r0, ord=2)\n",
    "    v = [r0 / b]\n",
    "    m = A.shape[0]\n",
    "    h = np.zeros((m, m))\n",
    "    \n",
    "    for k in range(1, m):\n",
    "        w = np.dot(A, v[k-1])\n",
    "        for j in range(1, k):\n",
    "            h[j-1, k-1] = np.dot(w.T, v[j-1])\n",
    "            w = w - h[j-1, k-1]*v[j-1]\n",
    "        h[k, k-1] = np.linalg.norm(w)\n",
    "        \n",
    "        # Display matrix H\n",
    "        print(h)\n",
    "        \n",
    "        if h[k, k-1] != 0:\n",
    "            v_new = w / h[k, k-1]\n",
    "            v.append(v_new)\n",
    "        else:\n",
    "            break"
   ]
  },
  {
   "cell_type": "code",
   "execution_count": 12,
   "id": "635b7d18-6659-4798-b638-b930da0fd73b",
   "metadata": {},
   "outputs": [
    {
     "name": "stdout",
     "output_type": "stream",
     "text": [
      "[[0.         0.         0.        ]\n",
      " [8.92397684 0.         0.        ]\n",
      " [0.         0.         0.        ]]\n",
      "[[0.         8.92397684 0.        ]\n",
      " [8.92397684 0.         0.        ]\n",
      " [0.         2.71088686 0.        ]]\n"
     ]
    }
   ],
   "source": [
    "modified_gram_schmidt(A, b, x0)"
   ]
  },
  {
   "cell_type": "code",
   "execution_count": null,
   "id": "a6216d1e-172f-475a-9a97-f73654191336",
   "metadata": {},
   "outputs": [],
   "source": []
  }
 ],
 "metadata": {
  "kernelspec": {
   "display_name": "Python 3 (ipykernel)",
   "language": "python",
   "name": "python3"
  },
  "language_info": {
   "codemirror_mode": {
    "name": "ipython",
    "version": 3
   },
   "file_extension": ".py",
   "mimetype": "text/x-python",
   "name": "python",
   "nbconvert_exporter": "python",
   "pygments_lexer": "ipython3",
   "version": "3.10.9"
  }
 },
 "nbformat": 4,
 "nbformat_minor": 5
}
