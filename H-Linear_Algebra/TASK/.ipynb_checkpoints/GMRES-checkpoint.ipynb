{
 "cells": [
  {
   "cell_type": "markdown",
   "id": "d3bf1c26-4f7d-4a59-bf37-4942819b3e07",
   "metadata": {},
   "source": [
    "GMRES"
   ]
  },
  {
   "cell_type": "code",
   "execution_count": 3,
   "id": "ae54bdb8-1315-4e1a-bacd-3ee96fb93434",
   "metadata": {},
   "outputs": [],
   "source": [
    "import numpy as np\n"
   ]
  },
  {
   "cell_type": "code",
   "execution_count": 9,
   "id": "ea1ffd21-6f47-4ff2-a512-f6e1e4112034",
   "metadata": {},
   "outputs": [],
   "source": [
    "# Problem data\n",
    "A = np.array([[5, 2, 3], [2, 4, 1], [3, 1, 6]])\n",
    "b = np.array([5, 1, -1])\n",
    "x0 = np.array([1, 1, 1])\n",
    "\n",
    "# MODIFIED GRAMSMIDT RPOCESS\n",
    "def modified_gram_schmidt(A, b, x0):\n",
    "    r0 = b - np.dot(A, x0)\n",
    "    b  = np.linalg.norm(r0, ord=2)\n",
    "    v = [r0 / b]\n",
    "    m = A.shape[0]\n",
    "    h = np.zeros((m, m))\n",
    "    \n",
    "    for k in range(1, m):\n",
    "        w = np.dot(A, v[k-1])\n",
    "        for j in range(1, k):\n",
    "            h[j-1, k-1] = np.dot(w.T, v[j-1])\n",
    "            w = w - h[j-1, k-1]*v[j-1]\n",
    "        h[k, k-1] = np.linalg.norm(w)\n",
    "        \n",
    "        # Display matrix H\n",
    "        print(h)\n",
    "        \n",
    "        if h[k, k-1] != 0:\n",
    "            v_new = w / h[k, k-1]\n",
    "            v.append(v_new)\n",
    "        else:\n",
    "            break"
   ]
  },
  {
   "cell_type": "code",
   "execution_count": 10,
   "id": "635b7d18-6659-4798-b638-b930da0fd73b",
   "metadata": {},
   "outputs": [
    {
     "ename": "AttributeError",
     "evalue": "module 'numpy' has no attribute 'norm'",
     "output_type": "error",
     "traceback": [
      "\u001b[0;31m---------------------------------------------------------------------------\u001b[0m",
      "\u001b[0;31mAttributeError\u001b[0m                            Traceback (most recent call last)",
      "Cell \u001b[0;32mIn[10], line 1\u001b[0m\n\u001b[0;32m----> 1\u001b[0m \u001b[43mmodified_gram_schmidt\u001b[49m\u001b[43m(\u001b[49m\u001b[43mA\u001b[49m\u001b[43m,\u001b[49m\u001b[43m \u001b[49m\u001b[43mb\u001b[49m\u001b[43m,\u001b[49m\u001b[43m \u001b[49m\u001b[43mx0\u001b[49m\u001b[43m)\u001b[49m\n",
      "Cell \u001b[0;32mIn[9], line 19\u001b[0m, in \u001b[0;36mmodified_gram_schmidt\u001b[0;34m(A, b, x0)\u001b[0m\n\u001b[1;32m     17\u001b[0m     h[j\u001b[38;5;241m-\u001b[39m\u001b[38;5;241m1\u001b[39m, k\u001b[38;5;241m-\u001b[39m\u001b[38;5;241m1\u001b[39m] \u001b[38;5;241m=\u001b[39m np\u001b[38;5;241m.\u001b[39mdot(w\u001b[38;5;241m.\u001b[39mT, v[j\u001b[38;5;241m-\u001b[39m\u001b[38;5;241m1\u001b[39m])\n\u001b[1;32m     18\u001b[0m     w \u001b[38;5;241m=\u001b[39m w \u001b[38;5;241m-\u001b[39m h[j\u001b[38;5;241m-\u001b[39m\u001b[38;5;241m1\u001b[39m, k\u001b[38;5;241m-\u001b[39m\u001b[38;5;241m1\u001b[39m]\u001b[38;5;241m*\u001b[39mv[j\u001b[38;5;241m-\u001b[39m\u001b[38;5;241m1\u001b[39m]\n\u001b[0;32m---> 19\u001b[0m h[k, k\u001b[38;5;241m-\u001b[39m\u001b[38;5;241m1\u001b[39m] \u001b[38;5;241m=\u001b[39m \u001b[43mnp\u001b[49m\u001b[38;5;241;43m.\u001b[39;49m\u001b[43mnorm\u001b[49m(w)\n\u001b[1;32m     21\u001b[0m \u001b[38;5;66;03m# Display matrix H\u001b[39;00m\n\u001b[1;32m     22\u001b[0m \u001b[38;5;28mprint\u001b[39m(h)\n",
      "File \u001b[0;32m~/anaconda3/lib/python3.10/site-packages/numpy/__init__.py:315\u001b[0m, in \u001b[0;36m__getattr__\u001b[0;34m(attr)\u001b[0m\n\u001b[1;32m    312\u001b[0m     \u001b[38;5;28;01mfrom\u001b[39;00m \u001b[38;5;21;01m.\u001b[39;00m\u001b[38;5;21;01mtesting\u001b[39;00m \u001b[38;5;28;01mimport\u001b[39;00m Tester\n\u001b[1;32m    313\u001b[0m     \u001b[38;5;28;01mreturn\u001b[39;00m Tester\n\u001b[0;32m--> 315\u001b[0m \u001b[38;5;28;01mraise\u001b[39;00m \u001b[38;5;167;01mAttributeError\u001b[39;00m(\u001b[38;5;124m\"\u001b[39m\u001b[38;5;124mmodule \u001b[39m\u001b[38;5;132;01m{!r}\u001b[39;00m\u001b[38;5;124m has no attribute \u001b[39m\u001b[38;5;124m\"\u001b[39m\n\u001b[1;32m    316\u001b[0m                      \u001b[38;5;124m\"\u001b[39m\u001b[38;5;132;01m{!r}\u001b[39;00m\u001b[38;5;124m\"\u001b[39m\u001b[38;5;241m.\u001b[39mformat(\u001b[38;5;18m__name__\u001b[39m, attr))\n",
      "\u001b[0;31mAttributeError\u001b[0m: module 'numpy' has no attribute 'norm'"
     ]
    }
   ],
   "source": [
    "modified_gram_schmidt(A, b, x0)"
   ]
  },
  {
   "cell_type": "code",
   "execution_count": null,
   "id": "a6216d1e-172f-475a-9a97-f73654191336",
   "metadata": {},
   "outputs": [],
   "source": []
  }
 ],
 "metadata": {
  "kernelspec": {
   "display_name": "Python 3 (ipykernel)",
   "language": "python",
   "name": "python3"
  },
  "language_info": {
   "codemirror_mode": {
    "name": "ipython",
    "version": 3
   },
   "file_extension": ".py",
   "mimetype": "text/x-python",
   "name": "python",
   "nbconvert_exporter": "python",
   "pygments_lexer": "ipython3",
   "version": "3.10.9"
  }
 },
 "nbformat": 4,
 "nbformat_minor": 5
}
