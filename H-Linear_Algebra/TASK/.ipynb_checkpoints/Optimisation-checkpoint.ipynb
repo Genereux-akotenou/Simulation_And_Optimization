{
 "cells": [
  {
   "cell_type": "code",
   "execution_count": 29,
   "id": "06748ff2-7395-4add-8cee-227be49c9704",
   "metadata": {},
   "outputs": [],
   "source": [
    "import numpy as np"
   ]
  },
  {
   "cell_type": "code",
   "execution_count": 30,
   "id": "f5dc187c-3309-45f6-9e86-71fc46df5118",
   "metadata": {},
   "outputs": [],
   "source": [
    "def steepest_descent(A, b, xo):\n",
    "    \"\"\"\n",
    "    Algorithme de descente de gradent utilisant la **méthode du pas optimal** \n",
    "    Output: k(iteration), u(optimal_solution)\n",
    "    \"\"\"\n",
    "    x = xo\n",
    "    r = -np.dot(A, x) - b\n",
    "    k = 0\n",
    "    eps = 1.e-6\n",
    "    Kmax = 1500\n",
    "\n",
    "    while True:\n",
    "        p = r\n",
    "        t = np.dot(A, p)\n",
    "        a = (p.T@r) / (p.T@t)\n",
    "        x = x + (a*p)\n",
    "        r = r - (a*t)\n",
    "        k += 1\n",
    "        if np.linalg.norm(r) < eps or k == Kmax:\n",
    "            print(f\"iter: {k}\")\n",
    "            print(f\"x*: {x}\")\n",
    "            break"
   ]
  },
  {
   "cell_type": "code",
   "execution_count": 31,
   "id": "bad156d4-15be-40fb-bfe0-f4064a8d643f",
   "metadata": {},
   "outputs": [
    {
     "name": "stdout",
     "output_type": "stream",
     "text": [
      "iter: 21\n",
      "x*: [-2.38418579e-07 -4.76837158e-07]\n"
     ]
    }
   ],
   "source": [
    "# Problem data\n",
    "A  = np.array([[2, -1], [-1, 2]])\n",
    "b  = 0\n",
    "x = np.array([-1, -0.5]).T\n",
    "\n",
    "# Run\n",
    "steepest_descent(A, b, x)"
   ]
  },
  {
   "cell_type": "code",
   "execution_count": 32,
   "id": "94c5d6a7-c277-41d5-bc6e-5fe40d463fc3",
   "metadata": {},
   "outputs": [
    {
     "name": "stdout",
     "output_type": "stream",
     "text": [
      "iter: 32\n",
      "x*: [-1.73134304  0.37313423  0.9701492 ]\n"
     ]
    }
   ],
   "source": [
    "# Problem Data\n",
    "A = np.array([[5, 2, 3], [2, 4, 1], [3, 1, 6]])\n",
    "b = np.array([5, 1, -1])\n",
    "x = np.array([1, 1, 1])\n",
    "\n",
    "# Run\n",
    "steepest_descent(A, b, x)"
   ]
  },
  {
   "cell_type": "code",
   "execution_count": null,
   "id": "58ae11c2-3543-4c04-b01f-36033597178c",
   "metadata": {},
   "outputs": [],
   "source": [
    "def steepest_congugate_descent(A, b, xo):\n",
    "    \"\"\"\n",
    "    Algorithme de descente de gradent conjugé\n",
    "    Output: k(iteration), u(optimal_solution)\n",
    "    \"\"\"\n",
    "    x = xo\n",
    "    r = -np.dot(A, x) - b\n",
    "    k = 0\n",
    "    eps = 1.e-6\n",
    "    Kmax = 1500\n",
    "\n",
    "    while True:\n",
    "        p = r\n",
    "        t = np.dot(A, p)\n",
    "        a = (p.T@r) / (p.T@t)\n",
    "        x = x + (a*p)\n",
    "        r = r - (a*t)c\n",
    "        k += 1\n",
    "        if np.linalg.norm(r) < eps or k == Kmax:\n",
    "            print(f\"iter: {k}\")\n",
    "            print(f\"x*: {x}\")\n",
    "            break"
   ]
  },
  {
   "cell_type": "code",
   "execution_count": null,
   "id": "e15c961e-804d-4f95-a913-776fbd4ffc27",
   "metadata": {},
   "outputs": [],
   "source": [
    "eps = 1.e-7     # tolerance sur la norme du gradient\n",
    "    Kmax = 1500     # nombre max d'iterations\n",
    "\n",
    "    # First guess : u0\n",
    "    u = np.zeros(N)\n",
    "    I = np.eye(N)\n",
    "    k = 0\n",
    "\n",
    "    # Itération de GF\n",
    "    d0 = J(u)[1]\n",
    "    while True:\n",
    "        Gk = J(u)[1]\n",
    "        ro_k = np.dot(Gk, d0) / (2 * np.dot(d0, d0))\n",
    "        u = u - (ro_k*d0)\n",
    "\n",
    "        Gk = J(u)[1]\n",
    "\n",
    "        be_k = - np.dot(Gk, d0) / np.dot(d0, d0)\n",
    "\n",
    "        d0 = Gk + (be_k*d0)\n",
    "\n",
    "        k += 1\n",
    "        if np.linalg.norm(d0) < eps or k == Kmax:\n",
    "            break\n",
    "        "
   ]
  }
 ],
 "metadata": {
  "kernelspec": {
   "display_name": "Python 3 (ipykernel)",
   "language": "python",
   "name": "python3"
  },
  "language_info": {
   "codemirror_mode": {
    "name": "ipython",
    "version": 3
   },
   "file_extension": ".py",
   "mimetype": "text/x-python",
   "name": "python",
   "nbconvert_exporter": "python",
   "pygments_lexer": "ipython3",
   "version": "3.10.9"
  }
 },
 "nbformat": 4,
 "nbformat_minor": 5
}
