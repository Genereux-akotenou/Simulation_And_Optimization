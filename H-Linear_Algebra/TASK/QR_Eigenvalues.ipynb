{
  "cells": [
    {
      "cell_type": "code",
      "execution_count": null,
      "metadata": {
        "colab": {
          "base_uri": "https://localhost:8080/"
        },
        "id": "xxQcAh3xYqzC",
        "outputId": "b39138b7-6403-4b8f-bce6-441bd18fd138"
      },
      "outputs": [
        {
          "name": "stdout",
          "output_type": "stream",
          "text": [
            "Matrix Q:\n",
            "[[ 0.5  0.5 -0.5]\n",
            " [ 0.5  0.5  0.5]\n",
            " [ 0.5 -0.5 -0.5]\n",
            " [ 0.5 -0.5  0.5]]\n",
            "\n",
            "Matrix R:\n",
            "[[2. 2. 3.]\n",
            " [0. 4. 5.]\n",
            " [0. 0. 6.]]\n"
          ]
        }
      ],
      "source": [
        "\n",
        "\n",
        "def gram_schmidt(A):\n",
        "    m, n = A.shape\n",
        "    Q = np.zeros((m, n))\n",
        "    R = np.zeros((n, n))\n",
        "\n",
        "    for j in range(n):\n",
        "        v = A[:, j]\n",
        "        for i in range(j):\n",
        "            R[i, j] = np.dot(Q[:, i].T, A[:, j])\n",
        "            v = v - R[i, j] * Q[:, i]\n",
        "        R[j, j] = np.linalg.norm(v)\n",
        "        Q[:, j] = v / R[j, j]\n",
        "\n",
        "    return Q, R\n",
        "\n",
        "# Example usage\n",
        "A = np.array([[1, 3, 1], [1, 3, 7], [1, -1, -4], [1, -1, 2]])\n",
        "Q, R = gram_schmidt(A)\n",
        "\n",
        "print(\"Matrix Q:\")\n",
        "print(Q)\n",
        "print(\"\\nMatrix R:\")\n",
        "print(R)"
      ]
    },
    {
      "cell_type": "code",
      "execution_count": null,
      "metadata": {
        "id": "R9h_8xTAgCH6"
      },
      "outputs": [],
      "source": []
    },
    {
      "cell_type": "code",
      "execution_count": null,
      "metadata": {
        "colab": {
          "base_uri": "https://localhost:8080/"
        },
        "id": "uCbn6ed0bTya",
        "outputId": "39ca42bc-eee7-4dd1-e172-565173e97910"
      },
      "outputs": [
        {
          "name": "stdout",
          "output_type": "stream",
          "text": [
            "Matrix Q:\n",
            "[[-0.5 -0.5  0.5]\n",
            " [-0.5 -0.5 -0.5]\n",
            " [-0.5  0.5  0.5]\n",
            " [-0.5  0.5 -0.5]]\n",
            "\n",
            "Matrix R:\n",
            "[[-2. -2. -3.]\n",
            " [ 0. -4. -5.]\n",
            " [ 0.  0. -6.]]\n",
            "Matrix Q:\n",
            "[[-0.5 -0.5  0.5  0.5]\n",
            " [-0.5 -0.5 -0.5 -0.5]\n",
            " [-0.5  0.5  0.5 -0.5]\n",
            " [-0.5  0.5 -0.5  0.5]]\n",
            "\n",
            "Matrix R:\n",
            "[[-2. -2. -3.]\n",
            " [ 0. -4. -5.]\n",
            " [ 0.  0. -6.]\n",
            " [ 0.  0.  0.]]\n"
          ]
        }
      ],
      "source": [
        "import numpy as np\n",
        "\n",
        "# Matrix A\n",
        "A = np.array([[1, 3, 1], [1, 3, 7], [1, -1, -4], [1, -1, 2]])\n",
        "\n",
        "# Perform full QR decomposition\n",
        "Q, R = np.linalg.qr(A, mode='reduced')\n",
        "\n",
        "print(\"Matrix Q:\")\n",
        "print(Q)\n",
        "print(\"\\nMatrix R:\")\n",
        "print(R)\n",
        "\n",
        "# Perform full QR decomposition\n",
        "Q, R = np.linalg.qr(A, mode='complete')\n",
        "\n",
        "print(\"Matrix Q:\")\n",
        "print(Q)\n",
        "print(\"\\nMatrix R:\")\n",
        "print(R)"
      ]
    },
    {
      "cell_type": "code",
      "execution_count": 1,
      "metadata": {
        "colab": {
          "base_uri": "https://localhost:8080/"
        },
        "id": "FZhhT6AatAW8",
        "outputId": "4d464ff6-3798-432e-a932-9855f22b0bc6"
      },
      "outputs": [
        {
          "name": "stdout",
          "output_type": "stream",
          "text": [
            "Eigenvalues:\n",
            "[3.41421356 2.         0.58578644]\n",
            "\n",
            "Eigenvectors (each column corresponds to an eigenvalue):\n",
            "[[-5.00000000e-01 -7.07106781e-01  5.00000000e-01]\n",
            " [ 7.07106781e-01  4.05925293e-16  7.07106781e-01]\n",
            " [-5.00000000e-01  7.07106781e-01  5.00000000e-01]]\n"
          ]
        }
      ],
      "source": [
        "import numpy as np\n",
        "\n",
        "# Define the matrix A\n",
        "A = np.array([[2, -1, 0],\n",
        "              [-1, 2, -1],\n",
        "              [0, -1, 2]])\n",
        "\n",
        "# Calculate eigenvalues and eigenvectors\n",
        "eigenvalues, eigenvectors = np.linalg.eig(A)\n",
        "\n",
        "# Print the results\n",
        "print(\"Eigenvalues:\")\n",
        "print(eigenvalues)\n",
        "print(\"\\nEigenvectors (each column corresponds to an eigenvalue):\")\n",
        "print(eigenvectors)\n"
      ]
    },
    {
      "cell_type": "code",
      "execution_count": 2,
      "metadata": {},
      "outputs": [
        {
          "data": {
            "text/plain": [
              "-0.8284271247461903"
            ]
          },
          "execution_count": 2,
          "metadata": {},
          "output_type": "execute_result"
        }
      ],
      "source": [
        "2-np.sqrt(8)"
      ]
    },
    {
      "cell_type": "code",
      "execution_count": 1,
      "metadata": {
        "colab": {
          "base_uri": "https://localhost:8080/",
          "height": 433
        },
        "id": "YbgT13AmbdEo",
        "outputId": "5b7cb740-79cf-4309-b71e-17f57ddb9ac2"
      },
      "outputs": [
        {
          "data": {
            "image/png": "[encoded data removed]",
            "text/plain": [
              "<Figure size 640x480 with 1 Axes>"
            ]
          },
          "metadata": {},
          "output_type": "display_data"
        }
      ],
      "source": [
        "import numpy as np\n",
        "import matplotlib.pyplot as plt\n",
        "\n",
        "def gershgorin_plot(matrix):\n",
        "    n = len(matrix)\n",
        "    centers = np.diag(matrix)\n",
        "    radii = np.sum(np.abs(matrix), axis=1) - np.abs(centers)\n",
        "\n",
        "    # Define colors for the discs\n",
        "    colors = ['b', 'g', 'r', 'c', 'm', 'y', 'k']\n",
        "\n",
        "    fig, ax = plt.subplots()\n",
        "\n",
        "    for i in range(n):\n",
        "        color = colors[i % len(colors)]  # Select color cyclically\n",
        "        circle = plt.Circle((centers[i], 0), radii[i], color=color, alpha=0.3)\n",
        "        ax.add_artist(circle)\n",
        "        ax.plot(centers[i], 0, 'o', color=color)  # Plot the center of each disc with the same color\n",
        "\n",
        "    ax.set_aspect('equal', 'box')\n",
        "    ax.autoscale()\n",
        "    ax.axhline(0, color='k', lw=0.5)\n",
        "    ax.axvline(0, color='k', lw=0.5)\n",
        "    ax.set_title(\"Gershgorin Discs\")\n",
        "    plt.xlabel('Real')\n",
        "    plt.ylabel('Imaginary')\n",
        "    plt.grid(True)\n",
        "\n",
        "    # Set the limits to show the entire discs\n",
        "    max_radius = max(radii)\n",
        "    ax.set_xlim(min(centers) - max_radius, max(centers) + max_radius)\n",
        "    ax.set_ylim(-max_radius, max_radius)\n",
        "\n",
        "    plt.show()\n",
        "\n",
        "# Example usage:\n",
        "matrix = np.array([[5, 1, 0], [1, 4, 1], [0, 1, 3]])  # Your matrix here\n",
        "matrix = np.array([[2, -1, 0],\n",
        "              [-1, 2, -1],\n",
        "              [0, -1, 2]])\n",
        "gershgorin_plot(matrix)"
      ]
    },
    {
      "cell_type": "code",
      "execution_count": null,
      "metadata": {
        "colab": {
          "base_uri": "https://localhost:8080/",
          "height": 599
        },
        "id": "tSo-pvf3sagq",
        "outputId": "ac06d325-63d3-426b-c947-a9adb94c6552"
      },
      "outputs": [
        {
          "data": {
            "image/png": "[encoded data removed]",
            "text/plain": [
              "<Figure size 1000x600 with 1 Axes>"
            ]
          },
          "metadata": {},
          "output_type": "display_data"
        },
        {
          "name": "stdout",
          "output_type": "stream",
          "text": [
            "Final Dominant Eigenvalue: 3.4142135623730483\n",
            "Final Dominant Eigenvector: [ 0.50000006 -0.70710669  0.50000006]\n"
          ]
        }
      ],
      "source": [
        "import numpy as np\n",
        "import matplotlib.pyplot as plt\n",
        "\n",
        "# Define the matrix\n",
        "A = np.array([[2, -1, 0],\n",
        "              [-1, 2, -1],\n",
        "              [0, -1, 2]])\n",
        "\n",
        "# Initial guess for the eigenvector\n",
        "v = np.array([1, 1, 1])\n",
        "\n",
        "# Number of iterations\n",
        "num_iterations = 10\n",
        "\n",
        "# Lists to store eigenvalues and eigenvectors for plotting\n",
        "eigenvalues = []\n",
        "eigenvectors = []\n",
        "\n",
        "# Power iteration\n",
        "for i in range(num_iterations):\n",
        "    # Power iteration step\n",
        "    v = np.dot(A, v)\n",
        "\n",
        "    # Normalize the eigenvector\n",
        "    v = v / np.linalg.norm(v)\n",
        "\n",
        "    # Compute the eigenvalue\n",
        "    eigenvalue = np.dot(np.dot(v, A), v) / np.dot(v, v)\n",
        "\n",
        "    # Store eigenvalues and eigenvectors\n",
        "    eigenvalues.append(eigenvalue)\n",
        "    eigenvectors.append(v)\n",
        "\n",
        "# Plotting\n",
        "plt.figure(figsize=(10, 6))\n",
        "plt.title('Power Iteration for Dominant Eigenvalue')\n",
        "plt.xlabel('Iterations')\n",
        "plt.ylabel('Eigenvalue')\n",
        "plt.plot(range(1, num_iterations + 1), eigenvalues, marker='o', linestyle='-')\n",
        "plt.grid(True)\n",
        "plt.xticks(range(1, num_iterations + 1))\n",
        "plt.show()\n",
        "\n",
        "# Display the final eigenvalue and eigenvector\n",
        "print(\"Final Dominant Eigenvalue:\", eigenvalues[-1])\n",
        "print(\"Final Dominant Eigenvector:\", eigenvectors[-1])\n"
      ]
    },
    {
      "cell_type": "code",
      "execution_count": null,
      "metadata": {
        "colab": {
          "base_uri": "https://localhost:8080/"
        },
        "id": "z3MoFpsgJAch",
        "outputId": "8203df54-1331-4fc3-dc73-dd9dc6fb637c"
      },
      "outputs": [
        {
          "name": "stdout",
          "output_type": "stream",
          "text": [
            "Requirement already satisfied: yfinance in /usr/local/lib/python3.10/dist-packages (0.2.36)\n",
            "Requirement already satisfied: pandas>=1.3.0 in /usr/local/lib/python3.10/dist-packages (from yfinance) (1.5.3)\n",
            "Requirement already satisfied: numpy>=1.16.5 in /usr/local/lib/python3.10/dist-packages (from yfinance) (1.25.2)\n",
            "Requirement already satisfied: requests>=2.31 in /usr/local/lib/python3.10/dist-packages (from yfinance) (2.31.0)\n",
            "Requirement already satisfied: multitasking>=0.0.7 in /usr/local/lib/python3.10/dist-packages (from yfinance) (0.0.11)\n",
            "Requirement already satisfied: lxml>=4.9.1 in /usr/local/lib/python3.10/dist-packages (from yfinance) (4.9.4)\n",
            "Requirement already satisfied: appdirs>=1.4.4 in /usr/local/lib/python3.10/dist-packages (from yfinance) (1.4.4)\n",
            "Requirement already satisfied: pytz>=2022.5 in /usr/local/lib/python3.10/dist-packages (from yfinance) (2023.4)\n",
            "Requirement already satisfied: frozendict>=2.3.4 in /usr/local/lib/python3.10/dist-packages (from yfinance) (2.4.0)\n",
            "Requirement already satisfied: peewee>=3.16.2 in /usr/local/lib/python3.10/dist-packages (from yfinance) (3.17.1)\n",
            "Requirement already satisfied: beautifulsoup4>=4.11.1 in /usr/local/lib/python3.10/dist-packages (from yfinance) (4.12.3)\n",
            "Requirement already satisfied: html5lib>=1.1 in /usr/local/lib/python3.10/dist-packages (from yfinance) (1.1)\n",
            "Requirement already satisfied: soupsieve>1.2 in /usr/local/lib/python3.10/dist-packages (from beautifulsoup4>=4.11.1->yfinance) (2.5)\n",
            "Requirement already satisfied: six>=1.9 in /usr/local/lib/python3.10/dist-packages (from html5lib>=1.1->yfinance) (1.16.0)\n",
            "Requirement already satisfied: webencodings in /usr/local/lib/python3.10/dist-packages (from html5lib>=1.1->yfinance) (0.5.1)\n",
            "Requirement already satisfied: python-dateutil>=2.8.1 in /usr/local/lib/python3.10/dist-packages (from pandas>=1.3.0->yfinance) (2.8.2)\n",
            "Requirement already satisfied: charset-normalizer<4,>=2 in /usr/local/lib/python3.10/dist-packages (from requests>=2.31->yfinance) (3.3.2)\n",
            "Requirement already satisfied: idna<4,>=2.5 in /usr/local/lib/python3.10/dist-packages (from requests>=2.31->yfinance) (3.6)\n",
            "Requirement already satisfied: urllib3<3,>=1.21.1 in /usr/local/lib/python3.10/dist-packages (from requests>=2.31->yfinance) (2.0.7)\n",
            "Requirement already satisfied: certifi>=2017.4.17 in /usr/local/lib/python3.10/dist-packages (from requests>=2.31->yfinance) (2024.2.2)\n"
          ]
        }
      ],
      "source": [
        "pip install yfinance"
      ]
    },
    {
      "cell_type": "code",
      "execution_count": null,
      "metadata": {
        "colab": {
          "base_uri": "https://localhost:8080/"
        },
        "id": "3O1dYa5yJHOr",
        "outputId": "8650512d-27af-4854-9dca-711936083d25"
      },
      "outputs": [
        {
          "name": "stderr",
          "output_type": "stream",
          "text": [
            "/usr/local/lib/python3.10/dist-packages/yfinance/base.py:48: FutureWarning: The default dtype for empty Series will be 'object' instead of 'float64' in a future version. Specify a dtype explicitly to silence this warning.\n",
            "  _empty_series = pd.Series()\n",
            "[*********************100%%**********************]  5 of 5 completed"
          ]
        },
        {
          "name": "stdout",
          "output_type": "stream",
          "text": [
            "Eigenvalues:\n",
            "[3.21274831e-04 1.71378867e-04 5.16121746e-05 1.00123508e-04\n",
            " 1.11213811e-04]\n",
            "\n",
            "Eigenvectors:\n",
            "[[-0.29898068 -0.71036126  0.08641273  0.41391528  0.47665964]\n",
            " [-0.20360553 -0.21390761  0.46772068  0.28827577 -0.78161549]\n",
            " [-0.54584663 -0.27153742  0.01750807 -0.78985643 -0.06433633]\n",
            " [-0.15458532 -0.18418337 -0.87943838  0.18070532 -0.36893575]\n",
            " [-0.73980414  0.58478571  0.00719825  0.29840178  0.14703761]]\n"
          ]
        },
        {
          "name": "stderr",
          "output_type": "stream",
          "text": [
            "\n"
          ]
        }
      ],
      "source": [
        "import yfinance as yf\n",
        "import numpy as np\n",
        "import pandas as pd\n",
        "\n",
        "# Define the ticker symbols for the assets in your portfolio\n",
        "tickers = ['AAPL', 'XOM', 'JNJ', 'JPM', 'KO']\n",
        "\n",
        "# Fetch historical data\n",
        "data = yf.download(tickers, start='2023-01-01', end='2024-01-01')['Adj Close']\n",
        "\n",
        "# Calculate daily returns\n",
        "returns = data.pct_change().dropna()\n",
        "\n",
        "# Calculate the variance-covariance matrix\n",
        "cov_matrix = returns.cov()\n",
        "\n",
        "# Compute eigenvalues and eigenvectors\n",
        "eigenvalues, eigenvectors = np.linalg.eig(cov_matrix)\n",
        "\n",
        "# Display the eigenvalues\n",
        "print(\"Eigenvalues:\")\n",
        "print(eigenvalues)\n",
        "\n",
        "# Display the eigenvectors\n",
        "print(\"\\nEigenvectors:\")\n",
        "print(eigenvectors)\n"
      ]
    }
  ],
  "metadata": {
    "colab": {
      "provenance": []
    },
    "kernelspec": {
      "display_name": "Python 3",
      "name": "python3"
    },
    "language_info": {
      "codemirror_mode": {
        "name": "ipython",
        "version": 3
      },
      "file_extension": ".py",
      "mimetype": "text/x-python",
      "name": "python",
      "nbconvert_exporter": "python",
      "pygments_lexer": "ipython3",
      "version": "3.10.9"
    }
  },
  "nbformat": 4,
  "nbformat_minor": 0
}
