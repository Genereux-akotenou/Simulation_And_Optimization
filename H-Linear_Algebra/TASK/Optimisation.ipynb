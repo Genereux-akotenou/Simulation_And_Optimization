{
 "cells": [
  {
   "cell_type": "code",
   "execution_count": 29,
   "id": "06748ff2-7395-4add-8cee-227be49c9704",
   "metadata": {},
   "outputs": [],
   "source": [
    "import numpy as np"
   ]
  },
  {
   "cell_type": "code",
   "execution_count": 107,
   "id": "f5dc187c-3309-45f6-9e86-71fc46df5118",
   "metadata": {},
   "outputs": [],
   "source": [
    "def steepest_descent(A, b, xo):\n",
    "    \"\"\"\n",
    "    Algorithme de descente de gradent utilisant la **méthode du pas optimal** \n",
    "    Output: k(iteration), u(optimal_solution)\n",
    "    \"\"\"\n",
    "    x = xo\n",
    "    r = b-np.dot(A, x)\n",
    "    k = 0\n",
    "    eps = 1.e-6\n",
    "    Kmax = 1500\n",
    "\n",
    "    while True:\n",
    "        p = r\n",
    "        t = np.dot(A, p)\n",
    "        a = (p.T@r) / (p.T@t)\n",
    "        x = x + (a*p)\n",
    "        r = r - (a*t)\n",
    "        k += 1\n",
    "        if np.linalg.norm(r) < eps or k == Kmax:\n",
    "            print(f\"iter: {k}\")\n",
    "            print(f\"x*: {x}\")\n",
    "            break"
   ]
  },
  {
   "cell_type": "code",
   "execution_count": 108,
   "id": "bad156d4-15be-40fb-bfe0-f4064a8d643f",
   "metadata": {},
   "outputs": [
    {
     "name": "stdout",
     "output_type": "stream",
     "text": [
      "iter: 21\n",
      "x*: [-2.38418579e-07 -4.76837158e-07]\n"
     ]
    }
   ],
   "source": [
    "# Problem data\n",
    "A  = np.array([[2, -1], [-1, 2]])\n",
    "b = np.array([0, 0])\n",
    "x = np.array([-1, -0.5]).T\n",
    "\n",
    "# Run\n",
    "steepest_descent(A, b, x)"
   ]
  },
  {
   "cell_type": "code",
   "execution_count": 109,
   "id": "94c5d6a7-c277-41d5-bc6e-5fe40d463fc3",
   "metadata": {},
   "outputs": [
    {
     "name": "stdout",
     "output_type": "stream",
     "text": [
      "iter: 24\n",
      "x*: [ 1.7313432  -0.37313419 -0.97014911]\n"
     ]
    }
   ],
   "source": [
    "# Problem Data\n",
    "A = np.array([[5, 2, 3], [2, 4, 1], [3, 1, 6]])\n",
    "b = np.array([5, 1, -1])\n",
    "x = np.array([1, 1, 1])\n",
    "\n",
    "# Run\n",
    "steepest_descent(A, b, x)"
   ]
  },
  {
   "cell_type": "code",
   "execution_count": 110,
   "id": "58ae11c2-3543-4c04-b01f-36033597178c",
   "metadata": {},
   "outputs": [],
   "source": [
    "def steepest_congugate_descent(A, b, xo):\n",
    "    \"\"\"\n",
    "    Algorithme de descente de gradent conjugé\n",
    "    Output: k(iteration), u(optimal_solution)\n",
    "    \"\"\"\n",
    "    x = xo\n",
    "    r = b-np.dot(A, x)\n",
    "    p = r\n",
    "    k = 0\n",
    "    eps = 1.e-6\n",
    "    Kmax = 1500\n",
    "\n",
    "    while True:\n",
    "        t = np.dot(A, p)\n",
    "        a = (p.T@r) / (p.T@t)\n",
    "        x = x + (a*p)\n",
    "        r_prev = r.copy()\n",
    "        r = r - (a*t)\n",
    "        beta = (r.T@r) / (r_prev.T@r_prev)\n",
    "        p = r + (beta*p)\n",
    "        k += 1\n",
    "        if np.linalg.norm(r) < eps or k == Kmax:\n",
    "            print(f\"iter: {k}\")\n",
    "            print(f\"x*: {x}\")\n",
    "            break"
   ]
  },
  {
   "cell_type": "code",
   "execution_count": 111,
   "id": "4d0d2a07-29f9-41f8-b178-94e72f566053",
   "metadata": {},
   "outputs": [
    {
     "name": "stdout",
     "output_type": "stream",
     "text": [
      "iter: 2\n",
      "x*: [0. 0.]\n"
     ]
    }
   ],
   "source": [
    "# Problem data\n",
    "A  = np.array([[2, -1], [-1, 2]])\n",
    "b = np.array([0, 0])\n",
    "x = np.array([-1, -0.5]).T\n",
    "\n",
    "# Run\n",
    "steepest_congugate_descent(A, b, x)"
   ]
  },
  {
   "cell_type": "code",
   "execution_count": 112,
   "id": "cd94b62c-6ad5-40ac-b43f-6354844c3c20",
   "metadata": {},
   "outputs": [
    {
     "name": "stdout",
     "output_type": "stream",
     "text": [
      "iter: 3\n",
      "x*: [ 1.73134328 -0.37313433 -0.97014925]\n"
     ]
    }
   ],
   "source": [
    "# Problem Data\n",
    "A = np.array([[5, 2, 3], [2, 4, 1], [3, 1, 6]])\n",
    "b = np.array([5, 1, -1])\n",
    "x = np.array([1, 1, 1])\n",
    "\n",
    "# Run\n",
    "steepest_congugate_descent(A, b, x)"
   ]
  },
  {
   "cell_type": "code",
   "execution_count": 114,
   "id": "abb00457-fa35-481f-9d28-3ab9870203e5",
   "metadata": {},
   "outputs": [
    {
     "name": "stdout",
     "output_type": "stream",
     "text": [
      "iter: 1500\n",
      "x*: [2.27904906 4.05889299 5.53544038 ... 5.53544038 4.05889299 2.27904906]\n",
      "iter: 92\n",
      "x*: [2.3209996  4.1419992  5.66064885 ... 5.66064885 4.1419992  2.3209996 ]\n"
     ]
    }
   ],
   "source": [
    "# Utils\n",
    "def tridiag(a, b, c):\n",
    "    return np.diag(a, k=1) + np.diag(b, k=0) + np.diag(c, k=-1)\n",
    "def computeA(N):\n",
    "    a = -1*np.ones(N-1)\n",
    "    d = 2*np.ones(N)\n",
    "    T = tridiag(a, d, a)\n",
    "    I = np.identity(N)\n",
    "    A = np.kron(T, I) + np.kron(I, T)\n",
    "    return A\n",
    "\n",
    "# Problem data\n",
    "N = 50\n",
    "A = computeA(N)\n",
    "F = np.ones(N*N)\n",
    "x = np.zeros(N*N)\n",
    "\n",
    "# Run\n",
    "steepest_descent(A, F, x)\n",
    "steepest_congugate_descent(A, F, x)"
   ]
  },
  {
   "cell_type": "code",
   "execution_count": null,
   "id": "9224ccf4-ba6e-4132-a75d-ec09acf07ba1",
   "metadata": {},
   "outputs": [],
   "source": []
  }
 ],
 "metadata": {
  "kernelspec": {
   "display_name": "Python 3 (ipykernel)",
   "language": "python",
   "name": "python3"
  },
  "language_info": {
   "codemirror_mode": {
    "name": "ipython",
    "version": 3
   },
   "file_extension": ".py",
   "mimetype": "text/x-python",
   "name": "python",
   "nbconvert_exporter": "python",
   "pygments_lexer": "ipython3",
   "version": "3.11.5"
  }
 },
 "nbformat": 4,
 "nbformat_minor": 5
}
