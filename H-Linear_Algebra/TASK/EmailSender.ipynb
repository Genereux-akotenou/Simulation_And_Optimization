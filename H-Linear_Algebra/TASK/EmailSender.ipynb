{
 "cells": [
  {
   "cell_type": "code",
   "execution_count": 1,
   "id": "3ac776a9-1db3-4cf3-b205-1e50781ae5df",
   "metadata": {},
   "outputs": [],
   "source": [
    "import smtplib\n",
    "import imaplib\n",
    "import time\n",
    "from email.mime.text import MIMEText\n",
    "from email.header import Header"
   ]
  },
  {
   "cell_type": "code",
   "execution_count": 8,
   "id": "05c06003-9d46-4c75-8c6f-5cdd0a2fd014",
   "metadata": {},
   "outputs": [],
   "source": [
    "# Email configuration\n",
    "sender_email = 'ceo@friare.org' \n",
    "sender_password = 'FRIARE2023Webmail_'\n",
    "recipient_email = 'genereux.akotenou@gmail.com'\n",
    "subject = 'Testing email script'\n",
    "body = 'This is a test email sent from a Python script. <div style=\"background-color:red; padding: 0.5em;\">Hahaha</div>'\n",
    "\n",
    "# SMTP (sending) server details\n",
    "smtp_server = 'smtp.titan.email'\n",
    "smtp_port = 587\n",
    "\n",
    "# IMAP (receiving) server details\n",
    "imap_server = 'imap.titan.email'\n",
    "imap_port = 993\n",
    "\n",
    "def send_email():\n",
    "    # Create the message\n",
    "    message = MIMEText(body, 'html', 'utf-8')\n",
    "    message['From'] = sender_email\n",
    "    message['To'] = recipient_email\n",
    "    message['Subject'] = Header(subject, 'utf-8')\n",
    "\n",
    "    try:\n",
    "        # Send the email\n",
    "        smtp_obj = smtplib.SMTP(smtp_server, smtp_port)\n",
    "        smtp_obj.starttls()\n",
    "        smtp_obj.login(sender_email, sender_password)\n",
    "        smtp_obj.sendmail(sender_email, recipient_email, message.as_string())\n",
    "        smtp_obj.quit()\n",
    "        print('Email sent successfully.')\n",
    "\n",
    "        # Append the sent email to the IMAP server's \"Sent\" folder\n",
    "        \"\"\"imap_obj = imaplib.IMAP4_SSL(imap_server, imap_port)\n",
    "        imap_obj.login(sender_email, sender_password)\n",
    "        imap_obj.append('Sent', '', imaplib.Time2Internaldate(imaplib.Time2Internaldate(imaplib.Time2Internaldate(time.time()))), message.as_bytes())\n",
    "        imap_obj.logout()\n",
    "        print('Email appended to \"Sent\" folder.')\"\"\"\n",
    "    except smtplib.SMTPException as e:\n",
    "        print('Error sending email:', str(e))\n",
    "    except imaplib.IMAP4.error as e:\n",
    "        print('Error appending email to \"Sent\" folder:', str(e))"
   ]
  },
  {
   "cell_type": "code",
   "execution_count": 9,
   "id": "eb5544c7-65cf-4493-8984-c823fb97c505",
   "metadata": {},
   "outputs": [
    {
     "name": "stdout",
     "output_type": "stream",
     "text": [
      "Email sent successfully.\n"
     ]
    }
   ],
   "source": [
    "# Call the function to send the email and append it to the \"Sent\" folder\n",
    "send_email()"
   ]
  },
  {
   "cell_type": "code",
   "execution_count": null,
   "id": "357b46ad-1a26-43c3-88c6-923eed68a23a",
   "metadata": {},
   "outputs": [],
   "source": []
  }
 ],
 "metadata": {
  "kernelspec": {
   "display_name": "Python 3 (ipykernel)",
   "language": "python",
   "name": "python3"
  },
  "language_info": {
   "codemirror_mode": {
    "name": "ipython",
    "version": 3
   },
   "file_extension": ".py",
   "mimetype": "text/x-python",
   "name": "python",
   "nbconvert_exporter": "python",
   "pygments_lexer": "ipython3",
   "version": "3.10.9"
  }
 },
 "nbformat": 4,
 "nbformat_minor": 5
}
