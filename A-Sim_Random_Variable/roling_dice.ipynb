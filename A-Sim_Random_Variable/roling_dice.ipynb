{
 "cells": [
  {
   "cell_type": "code",
   "execution_count": 2,
   "metadata": {},
   "outputs": [
    {
     "data": {
      "text/plain": [
       "'\\nConsider an experiment of rolling two dice. Let the collection of every ordered pair of E for which the sum of the pair is equal to seven. \\nThus E = (1, 6), (2, 5), (3, 4), (4, 3), (5, 2), (6, 1). Suppose that the dice are cast N = 400 times, how many times you should expect to \\nget E to happen?\\n'"
      ]
     },
     "execution_count": 2,
     "metadata": {},
     "output_type": "execute_result"
    }
   ],
   "source": [
    "\"\"\"\n",
    "Consider an experiment of rolling two dice. Let the collection of every ordered pair of E for which the sum of the pair is equal to seven. \n",
    "Thus E = (1, 6), (2, 5), (3, 4), (4, 3), (5, 2), (6, 1). Suppose that the dice are cast N = 400 times, how many times you should expect to \n",
    "get E to happen?\n",
    "\"\"\""
   ]
  },
  {
   "cell_type": "code",
   "execution_count": 17,
   "metadata": {},
   "outputs": [
    {
     "name": "stdout",
     "output_type": "stream",
     "text": [
      "Number of times event E occurs in 400 trials: 69\n"
     ]
    }
   ],
   "source": [
    "import random\n",
    "\n",
    "def roll_two_dice():\n",
    "    return random.randint(1, 6), random.randint(1, 6)\n",
    "\n",
    "def experiment_simulation(N):\n",
    "    event_E = (1, 6), (2, 5), (3, 4), (4, 3), (5, 2), (6, 1)\n",
    "    count_E = 0\n",
    "\n",
    "    for _ in range(N):\n",
    "        outcome = roll_two_dice()\n",
    "        if outcome in event_E:\n",
    "            count_E += 1\n",
    "\n",
    "    return count_E\n",
    "\n",
    "def main():\n",
    "    N = 400\n",
    "    expected_count = experiment_simulation(N)\n",
    "    \n",
    "    print(f\"Number of times event E occurs in {N} trials: {expected_count}\")\n",
    "\n",
    "if __name__ == \"__main__\":\n",
    "    main()\n"
   ]
  },
  {
   "cell_type": "code",
   "execution_count": 18,
   "metadata": {},
   "outputs": [
    {
     "name": "stdout",
     "output_type": "stream",
     "text": [
      "Mean number of times event E occurs in 400 trials over 1000 simulations: 66.396\n"
     ]
    }
   ],
   "source": [
    "import random\n",
    "\n",
    "def roll_two_dice():\n",
    "    return random.randint(1, 6), random.randint(1, 6)\n",
    "\n",
    "def experiment_simulation(N):\n",
    "    event_E = (1, 6), (2, 5), (3, 4), (4, 3), (5, 2), (6, 1)\n",
    "    count_E = 0\n",
    "\n",
    "    for _ in range(N):\n",
    "        outcome = roll_two_dice()\n",
    "        if outcome in event_E:\n",
    "            count_E += 1\n",
    "\n",
    "    return count_E\n",
    "\n",
    "def run_experiment_multiple_times(num_simulations, N):\n",
    "    total_counts = 0\n",
    "\n",
    "    for _ in range(num_simulations):\n",
    "        total_counts += experiment_simulation(N)\n",
    "\n",
    "    mean_count = total_counts / num_simulations\n",
    "    return mean_count\n",
    "\n",
    "def main():\n",
    "    num_simulations = 1000  # Adjust the number of simulations as needed\n",
    "    N = 400\n",
    "    mean_count = run_experiment_multiple_times(num_simulations, N)\n",
    "    \n",
    "    print(f\"Mean number of times event E occurs in {N} trials over {num_simulations} simulations: {mean_count}\")\n",
    "\n",
    "if __name__ == \"__main__\":\n",
    "    main()"
   ]
  }
 ],
 "metadata": {
  "kernelspec": {
   "display_name": "base",
   "language": "python",
   "name": "python3"
  },
  "language_info": {
   "codemirror_mode": {
    "name": "ipython",
    "version": 3
   },
   "file_extension": ".py",
   "mimetype": "text/x-python",
   "name": "python",
   "nbconvert_exporter": "python",
   "pygments_lexer": "ipython3",
   "version": "3.10.9"
  },
  "orig_nbformat": 4
 },
 "nbformat": 4,
 "nbformat_minor": 2
}
