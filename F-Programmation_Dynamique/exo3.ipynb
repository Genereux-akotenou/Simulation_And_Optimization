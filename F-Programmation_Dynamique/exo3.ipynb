{
 "cells": [
  {
   "cell_type": "code",
   "execution_count": 8,
   "metadata": {},
   "outputs": [
    {
     "name": "stdout",
     "output_type": "stream",
     "text": [
      "[0, 1, 3, 5, 6, 8, 10, 11]\n",
      "[0, 1, 2, 3, 1, 2, 3, 2]\n"
     ]
    }
   ],
   "source": [
    "prices = [0, 1, 3, 5, 6, 8, 9, 10]\n",
    "Cn, In = [0, 1], [0, 1]\n",
    "\n",
    "for n in range(2, 8):\n",
    "    max_value, ind = 0, 0\n",
    "    for i in range(n, 0, -1):\n",
    "        new_max = max(max_value, prices[i] + prices[n-i])\n",
    "        if new_max != max_value:\n",
    "            max_value = new_max\n",
    "        if(max_value == prices[i] + prices[n-i]):\n",
    "            ind = i\n",
    "    Cn.append(max_value)\n",
    "    In.append(ind)\n",
    "\n",
    "# OUTPUT\n",
    "print(Cn)\n",
    "print(In)"
   ]
  },
  {
   "cell_type": "code",
   "execution_count": null,
   "metadata": {},
   "outputs": [],
   "source": []
  }
 ],
 "metadata": {
  "kernelspec": {
   "display_name": "base",
   "language": "python",
   "name": "python3"
  },
  "language_info": {
   "codemirror_mode": {
    "name": "ipython",
    "version": 3
   },
   "file_extension": ".py",
   "mimetype": "text/x-python",
   "name": "python",
   "nbconvert_exporter": "python",
   "pygments_lexer": "ipython3",
   "version": "3.10.9"
  },
  "orig_nbformat": 4
 },
 "nbformat": 4,
 "nbformat_minor": 2
}
