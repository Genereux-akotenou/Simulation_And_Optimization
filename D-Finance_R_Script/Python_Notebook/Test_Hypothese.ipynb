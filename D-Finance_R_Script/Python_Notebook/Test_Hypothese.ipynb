{
 "cells": [
  {
   "attachments": {},
   "cell_type": "markdown",
   "metadata": {},
   "source": [
    "#### Case 1: \n",
    "\n",
    "un neurologue souhaitent tester l'effet d'un médicament sur le temps de réaction pour cela il injecte à sang rare une dose unitaire de ce médicament puis les soumet à un stimulus terol neurologiques et enregistrent leur temps de réaction une neurologue c'est que en l'absence de ce médicament le temps moyen de réaction des rats et de 1,2 seconde alors que dans l'échantillon des 100 rats soumis à l'injection ce temps moyen est de 1,05 seconde avec un écart type de 0,5 secondes donc ça c'est la moyenne de l'échantillon un temps de réaction moyen de 1 05 secondes dans l'échantillon avec un écart type de 0.5 secondes pensez vous que le médicament a réellement un effet sur le temps de réaction"
   ]
  },
  {
   "cell_type": "code",
   "execution_count": null,
   "metadata": {},
   "outputs": [],
   "source": []
  }
 ],
 "metadata": {
  "kernelspec": {
   "display_name": "base",
   "language": "python",
   "name": "python3"
  },
  "language_info": {
   "codemirror_mode": {
    "name": "ipython",
    "version": 3
   },
   "file_extension": ".py",
   "mimetype": "text/x-python",
   "name": "python",
   "nbconvert_exporter": "python",
   "pygments_lexer": "ipython3",
   "version": "3.10.9"
  },
  "orig_nbformat": 4
 },
 "nbformat": 4,
 "nbformat_minor": 2
}
