{
 "cells": [
  {
   "cell_type": "markdown",
   "metadata": {},
   "source": [
    "### Etudiants\n",
    "- AYIDEGNON Saturné\n",
    "- AKOTENOU Généreux"
   ]
  },
  {
   "cell_type": "markdown",
   "metadata": {
    "id": "19D0FpH4keSk"
   },
   "source": [
    "# TP 2 : Méthode de gradient conjugué\n",
    "Le but de cette deuxième partie du TP est de programmer, valider et expérimenter l’algorithme du gradient conjugué GC (et sa variante Fletcher-Reeves).\n"
   ]
  },
  {
   "cell_type": "markdown",
   "metadata": {
    "id": "5an1Z18okeSl"
   },
   "source": [
    "## Etape 1.\n",
    "> Rappeler l’algorithme GC et l’implémenter. On pourra utilement se servir comme point de départ des codes de gradient développés en Partie 1. Effectuer les tests de validation rapide pour les fonctions quadratiques suivantes ($N = 10, 20, 40$) :\n",
    "$$\n",
    "J_{1}(v)=\\sum_{i=1}^{i=N}\\left(v_{i}-1\\right)^{2}, \\quad J_{2}(v)=\\sum_{i=1}^{i=N}\\left(v_{i}-i\\right)^{2}\n",
    "$$"
   ]
  },
  {
   "cell_type": "markdown",
   "metadata": {
    "id": "etWC-oExqZ4R"
   },
   "source": [
    "\n",
    "On rappelle que pour une fonction $J$ quadratique :\n",
    "$$\n",
    "J(v)=\\frac{1}{2} \\langle A v, v \\rangle -\\langle b, v\\rangle; \\quad\\quad\\quad \\nabla J(v)=A v-b\n",
    "$$\n",
    "où $A$ est une matrice symétrique définie positive, l'algorithme GC s'écrit comme suit:\n",
    "\n",
    "**Pseudocode**\n",
    "\n",
    ">  \n",
    "- Initialisation: $u_0 \\in {\\mathbb R}^n$ arbitraire, $d_0 = \\nabla J(u_0) \\in {\\mathbb R}^n$\n",
    "- Itérations: répéter pour $k=0,1,\\dots$\n",
    "  - calculer le gradient $G_k = \\nabla J (u_{k})$;\n",
    "  - calculer $\\rho_k$\n",
    "  $$\n",
    "  \\rho_k = \\frac{ \\langle G_k, d_{k}\\rangle}{\\langle A d_{k}, d_{k}\\rangle};\n",
    "  $$\n",
    "  - poser $u_{k+1} = u_{k} - \\rho_k d_k$;\n",
    "  - calculer le gradient $G_{k+1}=\\nabla J (u_{k+1})$;\n",
    "  - calculer $\\beta_k$,\n",
    "  $$\n",
    "  \\beta_k = -\\frac{ \\langle G_{k+1}, Ad_{k}\\rangle}{\\langle A d_{k}, d_{k}\\rangle};\n",
    "  $$\n",
    "  - poser $d_{k+1} = \\nabla J(u_{k+1}) + \\beta_k d_k$;\n",
    "- Critère d'arrêt:  $\\| d_k \\|_2 \\leq \\epsilon$\n"
   ]
  },
  {
   "cell_type": "code",
   "execution_count": 1,
   "metadata": {
    "id": "qPZSyI3KQE4K"
   },
   "outputs": [],
   "source": [
    "import numpy as np"
   ]
  },
  {
   "cell_type": "code",
   "execution_count": 2,
   "metadata": {
    "id": "E8UuFvcAQE4K"
   },
   "outputs": [],
   "source": [
    "# rappelle des fonctions du TP1. Cette fonction retourne la valeur de la fonction et de sont gradient\n",
    "def J1 (v): \n",
    "    N = len(v)\n",
    "    ones = np.ones (N)\n",
    "    return [np.dot(v-ones,v-ones), 2*(v-ones)]\n",
    "\n",
    "def J2 (v):\n",
    "    N = len(v)\n",
    "    r = np.arange (1,N+1)\n",
    "    return [np.dot(v-r,v-r), 2*(v-r)]"
   ]
  },
  {
   "cell_type": "markdown",
   "metadata": {
    "id": "jC-5G0bLWOPG"
   },
   "source": [
    "On remarque que dans le cas des fonctions $J_1$ et $J_2$, on a $A = 2 I$ où $I$ est la matrice identité."
   ]
  },
  {
   "cell_type": "markdown",
   "metadata": {},
   "source": [
    "**Pseudocode**\n",
    "\n",
    ">  \n",
    "- Initialisation: $u_0 \\in {\\mathbb R}^n$ arbitraire, $d_0 = \\nabla J(u_0) \\in {\\mathbb R}^n$\n",
    "- Itérations: répéter pour $k=0,1,\\dots$\n",
    "  - calculer le gradient $G_k = \\nabla J (u_{k})$;\n",
    "  - calculer $\\rho_k$\n",
    "  $$\n",
    "  \\rho_k = \\frac{ \\langle G_k, d_{k}\\rangle}{\\langle A d_{k}, d_{k}\\rangle};\n",
    "  $$\n",
    "  - poser $u_{k+1} = u_{k} - \\rho_k d_k$;\n",
    "  - calculer le gradient $G_{k+1}=\\nabla J (u_{k+1})$;\n",
    "  - calculer $\\beta_k$,\n",
    "  $$\n",
    "  \\beta_k = -\\frac{ \\langle G_{k+1}, Ad_{k}\\rangle}{\\langle A d_{k}, d_{k}\\rangle};\n",
    "  $$\n",
    "  - poser $d_{k+1} = \\nabla J(u_{k+1}) + \\beta_k d_k$;\n",
    "- Critère d'arrêt:  $\\| d_k \\|_2 \\leq \\epsilon$"
   ]
  },
  {
   "cell_type": "code",
   "execution_count": 110,
   "metadata": {
    "id": "_J3WXeu1qZIG"
   },
   "outputs": [
    {
     "name": "stdout",
     "output_type": "stream",
     "text": [
      "N: 10\tNombre d'itération: 1\t - Vecteur u*: [1. 1. 1. 1. 1. 1. 1. 1. 1. 1.]\n",
      "N: 10\tNombre d'itération: 1\t - Vecteur u*: [ 1.  2.  3.  4.  5.  6.  7.  8.  9. 10.]\n",
      "\n",
      "\n",
      "N: 20\tNombre d'itération: 1\t - Vecteur u*: [1. 1. 1. 1. 1. 1. 1. 1. 1. 1. 1. 1. 1. 1. 1. 1. 1. 1. 1. 1.]\n",
      "N: 20\tNombre d'itération: 1\t - Vecteur u*: [ 1.  2.  3.  4.  5.  6.  7.  8.  9. 10. 11. 12. 13. 14. 15. 16. 17. 18.\n",
      " 19. 20.]\n",
      "\n",
      "\n",
      "N: 40\tNombre d'itération: 1\t - Vecteur u*: [1. 1. 1. 1. 1. 1. 1. 1. 1. 1. 1. 1. 1. 1. 1. 1. 1. 1. 1. 1. 1. 1. 1. 1.\n",
      " 1. 1. 1. 1. 1. 1. 1. 1. 1. 1. 1. 1. 1. 1. 1. 1.]\n",
      "N: 40\tNombre d'itération: 1\t - Vecteur u*: [ 1.  2.  3.  4.  5.  6.  7.  8.  9. 10. 11. 12. 13. 14. 15. 16. 17. 18.\n",
      " 19. 20. 21. 22. 23. 24. 25. 26. 27. 28. 29. 30. 31. 32. 33. 34. 35. 36.\n",
      " 37. 38. 39. 40.]\n"
     ]
    }
   ],
   "source": [
    "## Implémenter ici l'algorithme du GC pour J1 et J2\n",
    "\n",
    "def gradient_conguge(J, N):\n",
    "    eps = 1.e-7     # tolerance sur la norme du gradient\n",
    "    Kmax = 1500     # nombre max d'iterations\n",
    "\n",
    "    # First guess : u0\n",
    "    u = np.zeros(N)\n",
    "    I = np.eye(N)\n",
    "    k = 0\n",
    "\n",
    "    # Itération de GF\n",
    "    d0 = J(u)[1]\n",
    "    while True:\n",
    "        Gk = J(u)[1]\n",
    "        ro_k = np.dot(Gk, d0) / (2 * np.dot(d0, d0))\n",
    "        u = u - (ro_k*d0)\n",
    "\n",
    "        Gk = J(u)[1]\n",
    "\n",
    "        be_k = - np.dot(Gk, d0) / np.dot(d0, d0)\n",
    "\n",
    "        d0 = Gk + (be_k*d0)\n",
    "\n",
    "        k += 1\n",
    "        if np.linalg.norm(d0) < eps or k == Kmax:\n",
    "            break\n",
    "        \n",
    "    # Arret\n",
    "    print(f\"N: {N}\\tNombre d'itération: {k}\\t - Vecteur u*: {u}\")\n",
    "\n",
    "gradient_conguge(J1, 10)\n",
    "gradient_conguge(J2, 10)\n",
    "print(\"\\n\")\n",
    "gradient_conguge(J1, 20)\n",
    "gradient_conguge(J2, 20)\n",
    "print(\"\\n\")\n",
    "gradient_conguge(J1, 40)\n",
    "gradient_conguge(J2, 40)"
   ]
  },
  {
   "cell_type": "markdown",
   "metadata": {
    "id": "2bOSmidvkeSl"
   },
   "source": [
    "## Etape 2.\n",
    "On considère les fonctions quadratiques suivantes (en dimension $N$) :\n",
    "\n",
    "$$\n",
    "J_3(v)= \\frac 12\\langle Av,v \\rangle− \\langle f,v \\rangle , \\quad\\quad\\quad J_4(v)= \\frac 12 \\langle B v,v\\rangle − \\langle f,v\\rangle\n",
    "$$\n",
    "avec $f = (1,...,1)$ et les matrices $A$ et $B$ sont des matrices bande données par :\n",
    "\n",
    "$$\n",
    "A = {\\rm tridiag}[−1, 2, −1],\\quad\\quad\\quad B = {\\rm pentadiag}[−1, −1, 4, −1, −1]\n",
    "$$\n",
    "\n",
    "<!-- $$\n",
    "A=\\left(\\begin{array}{ccccc}\n",
    "2 & -1 & 0 & \\cdots & \\\\\n",
    "-1 & 2 & -1 & 0 & \\cdots \\\\\n",
    "0 & -1 & 2 & -1 & \\cdots \\\\\n",
    "\\cdots & \\cdots & \\cdots & \\cdots & \\cdots \\\\\n",
    "\\cdots & \\cdots & \\cdots & -1 & 2\n",
    "\\end{array}\\right)\n",
    "\\quad\\quad\\quad \\mbox{et même principe pour } B\n",
    "$$ -->\n",
    "\n",
    "$\n",
    "A = \\begin{pmatrix}\n",
    "2 & -1 & 0 & \\cdots & 0 \\\\\n",
    "-1 & 2 & -1 & 0 & \\cdots \\\\\n",
    "0 & -1 & 2 & -1 & \\cdots \\\\\n",
    "\\vdots & \\vdots & \\vdots & \\ddots & \\vdots \\\\\n",
    "0 & \\cdots & \\cdots & -1 & 2\n",
    "\\end{pmatrix}\n",
    "\\quad\\quad\\quad \\text{et même principe pour } B\n",
    "$\n"
   ]
  },
  {
   "cell_type": "markdown",
   "metadata": {
    "id": "xl_adM0wtNmq"
   },
   "source": [
    "\n",
    "> - Minimiser les fonctions $J_3$ et $J_4$ par GC ($N = 20,40,80,100,200$), et\n",
    "- Comparer sur ces fonctions les performances de GC et de GF (avec un pas $t = 0.5$).\n",
    "- On tracera sur un même graphique les courbes GC et GF de convergence du coût en fonction des itérations."
   ]
  },
  {
   "cell_type": "code",
   "execution_count": 132,
   "metadata": {
    "id": "HIsiU2HtkeSm"
   },
   "outputs": [],
   "source": [
    "def J3 (v):\n",
    "  n = len (v)\n",
    "  A = 2*np.eye(n) - np.diag(np.ones(n-1),1) - np.diag(np.ones(n-1),-1)\n",
    "  #print(A)\n",
    "  f = np.ones(len(v))\n",
    "  return [0.5*np.dot(np.dot(A,v),v) - np.dot(f,v), np.dot(A,v) - f, A]\n",
    "\n",
    "def J4 (v):\n",
    "  n = len (v)\n",
    "  B = 4*np.eye(n) - np.diag(np.ones(n-1),1) - np.diag(np.ones(n-1),-1) - np.diag(np.ones(n-2),2) - np.diag(np.ones(n-2),-2)\n",
    "  f = np.ones(len(v))\n",
    "  return [0.5*np.dot(np.dot(B,v),v) - np.dot(f,v), np.dot(B,v) - f, B]"
   ]
  },
  {
   "cell_type": "code",
   "execution_count": 160,
   "metadata": {},
   "outputs": [],
   "source": [
    "## GC\n",
    "\n",
    "def gradient_conguge(J, N, c=False):\n",
    "    eps = 1.e-7     # tolerance sur la norme du gradient\n",
    "    Kmax = 1500     # nombre max d'iterations\n",
    "\n",
    "    # First guess : u0\n",
    "    u = np.zeros(N)\n",
    "    I = np.eye(N)\n",
    "    k = 0\n",
    "    A = J(u)[2]\n",
    "    cost = []\n",
    "\n",
    "    # Itération de GF\n",
    "    d0 = J(u)[1]\n",
    "    while True:\n",
    "        Gk = J(u)[1]\n",
    "        cost.append(J(u)[0])\n",
    "\n",
    "        ro_k = np.dot(Gk, d0) / (np.dot(np.dot(A, d0), d0))\n",
    "        u = u - (ro_k*d0)\n",
    "\n",
    "        Gk = J(u)[1]\n",
    "\n",
    "        be_k = - np.dot(Gk, np.dot(A,d0)) / np.dot(np.dot(A, d0), d0)\n",
    "\n",
    "        d0 = Gk + (be_k*d0)\n",
    "\n",
    "        k += 1\n",
    "        if np.linalg.norm(d0) < eps or k == Kmax:\n",
    "            break\n",
    "        \n",
    "    # Arret\n",
    "    print(f\"N: {N}\\tNombre d'itération: {k}\\t - Vecteur u*: {u}\")\n",
    "    if c:\n",
    "        return cost, k\n",
    "\n"
   ]
  },
  {
   "cell_type": "code",
   "execution_count": 161,
   "metadata": {},
   "outputs": [],
   "source": [
    "# GF\n",
    "def gradient_fixe(J, t, c=False):\n",
    "    \"\"\"\n",
    "    Algorithme de descente de gradent utilisant le pas fixe \n",
    "    params: t [1, 0.1, 0.5]\n",
    "    Output: k(iteration), u(optimal_solution)\n",
    "    \"\"\"\n",
    "    N=10            # nombre de variables d'optimisation (ou dimension du probleme)\n",
    "    eps = 1.e-7     # tolerance sur la norme du gradient\n",
    "    Kmax = 1500     # nombre max d'iterations\n",
    "\n",
    "    # First guess : u0\n",
    "    u0 = np.zeros(N)\n",
    "    k = 0\n",
    "    u = u0\n",
    "    cost = []\n",
    "\n",
    "    # Itération de GF\n",
    "    while True:\n",
    "        grad = J(u)[1]\n",
    "        cost.append(J(u)[0])\n",
    "\n",
    "        if np.linalg.norm(grad) < eps or k == Kmax:\n",
    "            break\n",
    "        #print(u)\n",
    "        #print((t*grad))\n",
    "        u = u - (t*grad)\n",
    "        k += 1\n",
    "        \n",
    "    # Arret\n",
    "    print(f\"PAS={t}\\t - Nombre d'itération: {k}\\t - Vecteur u*: {u}\")\n",
    "    if c:\n",
    "        return cost, k"
   ]
  },
  {
   "cell_type": "code",
   "execution_count": 158,
   "metadata": {
    "id": "lj_dzVdDSsAT"
   },
   "outputs": [
    {
     "name": "stdout",
     "output_type": "stream",
     "text": [
      "N: 10\tNombre d'itération: 5\t - Vecteur u*: [ 5.  9. 12. 14. 15. 15. 14. 12.  9.  5.]\n",
      "N: 10\tNombre d'itération: 4\t - Vecteur u*: [1.45833333 2.08333333 2.75       3.125      3.33333333 3.33333333\n",
      " 3.125      2.75       2.08333333 1.45833333]\n"
     ]
    }
   ],
   "source": [
    "## Implémenter ici l'algorithme du GC pour J3 et J4, et aussi l'algorithme GF (du TP1) et comparer les deux algorithmes\n",
    "\n",
    "# GC\n",
    "gradient_conguge(J3, 10)\n",
    "gradient_conguge(J4, 10)"
   ]
  },
  {
   "cell_type": "code",
   "execution_count": 159,
   "metadata": {},
   "outputs": [
    {
     "name": "stdout",
     "output_type": "stream",
     "text": [
      "PAS=0.5\t - Nombre d'itération: 417\t - Vecteur u*: [ 4.99999986  8.99999973 11.99999962 13.99999954 14.9999995  14.9999995\n",
      " 13.99999954 11.99999962  8.99999973  4.99999986]\n",
      "PAS=0.1\t - Nombre d'itération: 468\t - Vecteur u*: [1.45833329 2.08333327 2.74999991 3.12499989 3.33333322 3.33333322\n",
      " 3.12499989 2.74999991 2.08333327 1.45833329]\n"
     ]
    }
   ],
   "source": [
    "# GF\n",
    "\n",
    "gradient_fixe(J3, 0.5)\n",
    "gradient_fixe(J4, 0.1)"
   ]
  },
  {
   "cell_type": "code",
   "execution_count": 164,
   "metadata": {},
   "outputs": [],
   "source": [
    "import matplotlib.pyplot as plt"
   ]
  },
  {
   "cell_type": "code",
   "execution_count": 176,
   "metadata": {},
   "outputs": [
    {
     "name": "stdout",
     "output_type": "stream",
     "text": [
      "N: 10\tNombre d'itération: 5\t - Vecteur u*: [ 5.  9. 12. 14. 15. 15. 14. 12.  9.  5.]\n",
      "PAS=0.5\t - Nombre d'itération: 417\t - Vecteur u*: [ 4.99999986  8.99999973 11.99999962 13.99999954 14.9999995  14.9999995\n",
      " 13.99999954 11.99999962  8.99999973  4.99999986]\n"
     ]
    },
    {
     "data": {
      "image/png": "[encoded data removed]",
      "text/plain": [
       "<Figure size 640x480 with 1 Axes>"
      ]
     },
     "metadata": {},
     "output_type": "display_data"
    }
   ],
   "source": [
    "def courbe_de_convergence(J):\n",
    "    N=10\n",
    "    eps = 1.e-7\n",
    "    Kmax = 329\n",
    "\n",
    "    # records of step and cost\n",
    "    step = []\n",
    "    cost_con = []\n",
    "    cost_fix = []\n",
    "\n",
    "    # CONJUGATE\n",
    "    cost_con, k1 = gradient_conguge(J, 10, True)\n",
    "    cost_fix, k2 = gradient_fixe(J, 0.5, True)\n",
    "    k = min(k1, k2)\n",
    "\n",
    "    # Plot\n",
    "    plt.plot([i for i in range(k)], cost_con[:k], color='blue', label='Optimal Congugate')\n",
    "    plt.plot([i for i in range(k)], cost_fix[:k], color='red', label='Fixed Gradient')\n",
    "    plt.xlabel('Step')\n",
    "    plt.ylabel('Cost')\n",
    "    plt.legend()\n",
    "    plt.show()\n",
    "\n",
    "courbe_de_convergence(J3)"
   ]
  },
  {
   "cell_type": "markdown",
   "metadata": {
    "id": "lOBB6-1QkeSp"
   },
   "source": [
    "## Etape 3.\n",
    "\n",
    "> - Effectuer une étude du comportement de NLGC (Fletcher-Reeves à pas constant bien choisi) vis à vis du paramètre $\\epsilon$ pour la fonction quadratique suivante $(N = 10, 20, 40)$ :\n",
    "$$\n",
    "J_{\\epsilon}(v)=\\sum_{i=1}^{i=N}\\left(v_{i}\\right)^{2}+\\frac{1}{\\epsilon} \\sum_{i=1}^{N-1}\\left\\{\\left(v_{i}+v_{i+1}-N / 2\\right)\\right\\}^{2}\n",
    "$$\n",
    "On fera l’étude pour $\\epsilon > 0$ de plus en plus petit, par exemple $\\epsilon = 10^{-p}, p = 0, 1, 2, 3$. Comparer la solution optimale calculée $u^∗$ ainsi que son coût $J_\\epsilon(u^∗)$ et son gradient à ceux du vecteur $c$ défini par $c_i = N/4$ $(i = 1,\\dots, N)$. Interpréter les résultats obtenus."
   ]
  },
  {
   "cell_type": "markdown",
   "metadata": {
    "id": "ogUVRX4ZfeA6"
   },
   "source": [
    "\n",
    "On rappelle que dans le cas d'une fonction quadratique\n",
    "$J(v)=\\frac{1}{2} \\langle A v, v \\rangle -\\langle b, v\\rangle+c$, l'algorithme NLGC (Fletcher-Reeves à pas constant) s'écrit comme suit:\n",
    "\n",
    "**Pseudocode**\n",
    "\n",
    ">  \n",
    "- Initialisation: $u_0 \\in {\\mathbb R}^n$ arbitraire, $d_0 = \\nabla J(u_0) \\in {\\mathbb R}^n$ et un pas fixe $\\rho>0$\n",
    "- Itérations: répéter pour $k=0,1,\\dots$\n",
    "  - calculer le gradient $G_k = \\nabla J (u_{k})$;\n",
    "  - poser $u_{k+1} = u_{k} - \\rho d_k$;\n",
    "  - calculer le gradient $G_{k+1}=\\nabla J (u_{k+1})$;\n",
    "  - calculer $\\beta_k$,\n",
    "  $$\n",
    "  \\beta_k = \\frac{ \\langle G_{k+1}, G_{k+1}\\rangle}{\\langle G_{k}, G_{k}\\rangle}; \\quad\\text{ (Fletcher-Reeves) }\n",
    "  $$\n",
    "  - poser $d_{k+1} = \\nabla J(u_{k+1}) + \\beta_k d_k$;\n",
    "- Critère d'arrêt:  $\\| d_k \\|_2 \\leq \\epsilon'$\n"
   ]
  },
  {
   "cell_type": "code",
   "execution_count": null,
   "metadata": {},
   "outputs": [],
   "source": [
    "v = np.array(v)\n",
    "N = len(v)\n",
    "ones = np.ones(N-1)\n",
    "\n",
    "# JR Values\n",
    "vect1 = v[1:] - (v[:-1]*v[:-1])\n",
    "vect2 = v[:-1] - ones\n",
    "values = np.dot(vect1, vect1) + np.dot(vect2, vect2)\n",
    "\n",
    "# JR Gradient\n",
    "vect1 = 2*(v[:-1] - ones) - 4*v[:-1]*(v[1:] - v[:-1]**2)\n",
    "vect2 = 2*(v[1:] - v[:-1]**2)"
   ]
  },
  {
   "cell_type": "code",
   "execution_count": 193,
   "metadata": {
    "id": "cGVhPAOakeSq"
   },
   "outputs": [],
   "source": [
    "def Jeps(epsilon, v):\n",
    "  ## calculer la valeur et le gradient de la fonction J(epsilon, v)\n",
    "  N = len(v)\n",
    "\n",
    "  # value\n",
    "  vect = v[:-1] + v[1:] - (N/2)\n",
    "  value = np.dot(v, v) + ((1 / epsilon) * (np.dot(vect, vect)))\n",
    "\n",
    "  # gradiant\n",
    "  grad1 = 2*(v[0] + v[1] - (N/2))\n",
    "  grad2 = (2*v[0:N-2]) + (4*v[1:N-1]) + (2*v[2:N]) - (2*N)\n",
    "  grad3 = 2*(v[N-2] + v[N-1] - (N/2))\n",
    "\n",
    "  grad_suite = np.hstack((grad1, grad2))\n",
    "  grad_suite = np.hstack((grad_suite, grad3))\n",
    "\n",
    "  gradiant = (2 * v) + ((1 / epsilon) * (grad_suite))\n",
    "\n",
    "  return [value, gradiant]"
   ]
  },
  {
   "cell_type": "code",
   "execution_count": 210,
   "metadata": {},
   "outputs": [
    {
     "data": {
      "text/plain": [
       "[225.0, array([-10., -20., -20., -20., -20., -20., -20., -20., -20., -10.])]"
      ]
     },
     "execution_count": 210,
     "metadata": {},
     "output_type": "execute_result"
    }
   ],
   "source": [
    "Jeps(1, np.zeros(10))"
   ]
  },
  {
   "cell_type": "code",
   "execution_count": 220,
   "metadata": {
    "id": "4NsmSo8DSsrQ"
   },
   "outputs": [
    {
     "name": "stdout",
     "output_type": "stream",
     "text": [
      "N: 10\tNombre d'itération: 166\t - Vecteur u*: [2.4938026  2.5037036  2.4962865  2.50122712 2.49875804 2.49875804\n",
      " 2.50122712 2.4962865  2.5037036  2.4938026 ]\n",
      "J(v*) : 62.46888926850652\n"
     ]
    }
   ],
   "source": [
    "## Implémenter ici l'algorithme du NLGC pour Jeps\n",
    "\n",
    "def gradient_conguge_for_nlgc(J, N, t, e):\n",
    "    eps = 1.e-7     # tolerance sur la norme du gradient\n",
    "    Kmax = 1500     # nombre max d'iterations\n",
    "\n",
    "    # First guess : u0\n",
    "    u = np.zeros(N)\n",
    "    k = 0\n",
    "\n",
    "    d0 = J(e, u)[1]\n",
    "    while True:\n",
    "        Gk = J(e, u)[1]\n",
    "        u = u - (t*d0)\n",
    "        Gk1 = J(e, u)[1]\n",
    "\n",
    "        be_k = np.dot(Gk1, Gk1) / np.dot(Gk, Gk)\n",
    "        d0 = Gk1 + (be_k*d0)\n",
    "\n",
    "        k += 1\n",
    "        if np.linalg.norm(d0) < eps or k == Kmax:\n",
    "            break\n",
    "        \n",
    "    # Arret\n",
    "    print(f\"N: {N}\\tNombre d'itération: {k}\\t - Vecteur u*: {u}\")\n",
    "    print(f\"J(v*) : {J(e, u)[0]}\")\n",
    "\n",
    "\n",
    "gradient_conguge_for_nlgc(Jeps, 10, 1.e-4, 1.e-3)\n"
   ]
  }
 ],
 "metadata": {
  "colab": {
   "provenance": []
  },
  "kernelspec": {
   "display_name": "Python 3 (ipykernel)",
   "language": "python",
   "name": "python3"
  },
  "language_info": {
   "codemirror_mode": {
    "name": "ipython",
    "version": 3
   },
   "file_extension": ".py",
   "mimetype": "text/x-python",
   "name": "python",
   "nbconvert_exporter": "python",
   "pygments_lexer": "ipython3",
   "version": "3.10.9"
  },
  "toc": {
   "base_numbering": 1,
   "nav_menu": {},
   "number_sections": true,
   "sideBar": true,
   "skip_h1_title": false,
   "title_cell": "Table of Contents",
   "title_sidebar": "Contents",
   "toc_cell": false,
   "toc_position": {},
   "toc_section_display": true,
   "toc_window_display": false
  },
  "varInspector": {
   "cols": {
    "lenName": 16,
    "lenType": 16,
    "lenVar": 40
   },
   "kernels_config": {
    "python": {
     "delete_cmd_postfix": "",
     "delete_cmd_prefix": "del ",
     "library": "var_list.py",
     "varRefreshCmd": "print(var_dic_list())"
    },
    "r": {
     "delete_cmd_postfix": ") ",
     "delete_cmd_prefix": "rm(",
     "library": "var_list.r",
     "varRefreshCmd": "cat(var_dic_list()) "
    }
   },
   "types_to_exclude": [
    "module",
    "function",
    "builtin_function_or_method",
    "instance",
    "_Feature"
   ],
   "window_display": false
  }
 },
 "nbformat": 4,
 "nbformat_minor": 1
}
