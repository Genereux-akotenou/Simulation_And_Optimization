{
  "cells": [
    {
      "cell_type": "markdown",
      "metadata": {
        "id": "-6yK1sJUkeSK"
      },
      "source": [
        "# Partie 1 : méthodes de gradient\n",
        "\n",
        "Le but de cette première partie du TP est de programmer, valider et expérimenter l’algorithme du **gradient à pas fixe (GF)** et à **gradient à pas optimal (GO)**. Pour faciliter les comparaisons, les 2 variantes seront implémentées dans le même programme. Pour les expérimentations et validations, on considèrera les fonctions suivantes:\n",
        "\n",
        "$$\n",
        "J_{1}(v)=\\sum_{i=1}^{i=N}\\left(v_{i}-1\\right)^{2}, \\quad J_{2}(v)=\\sum_{i=1}^{i=N}\\left(v_{i}-i\\right)^{2}, \\quad J_{R}(v)=\\sum_{i=1}^{i=N-1}\\left\\{\\left(v_{i+1}-v_{i}^{2}\\right)^{2}+\\left(v_{i}-1\\right)^{2}\\right\\}\n",
        "$$\n",
        "\n",
        "> Préciser les gradients, et les solutions optimales exactes pour ces 3 fonctions coût."
      ]
    },
    {
      "attachments": {},
      "cell_type": "markdown",
      "metadata": {
        "id": "8K_C87xbjBjA"
      },
      "source": [
        "- **J1**<br>\n",
        "Gradient: $\\nabla J_1(v)$ = 2($v_i$ - 1)\n",
        "Solution: $ V^* = \\begin{bmatrix} 1 \\\\ 1 \\\\ 1 \\\\ \\vdots \\\\ 1 \\end{bmatrix} $\n",
        "\n",
        "- **J2**<br>\n",
        "Gradient: $\\nabla J_2(v)$ = 2($v_i$ - i)\n",
        "Solution: $ V^* = \\begin{bmatrix} 1 \\\\ 2 \\\\ \\vdots \\\\ N-1 \\\\ N \\end{bmatrix} $\n",
        "\n",
        "- **JR**<br>\n",
        "Gradient: $\\nabla J_R(v) = \\begin{bmatrix} \\frac{\\partial J_i}{\\partial v_i} = 2(v_i - 1) - 4v_i(v_{i+1} - v_i^2) \\\\  \\frac{\\partial J_i}{\\partial v_{i+1}} = 2(v_{i+1} - v_i^2) \\end{bmatrix} $\n",
        "Solution: $ V^* = \\begin{bmatrix} 1 \\\\ 1 \\\\ \\vdots \\\\ 1 \\\\ 1 \\end{bmatrix} $\n"
      ]
    },
    {
      "cell_type": "markdown",
      "metadata": {
        "id": "rq9c3ybJyJuM"
      },
      "source": [
        "$$\n",
        "\\nabla J_1 (v),\\quad\\quad \\nabla J_2 (v),\\quad\\quad \\nabla J_R (v) ~~ ?\n",
        "$$"
      ]
    },
    {
      "cell_type": "code",
      "execution_count": 1,
      "metadata": {
        "id": "wshXCzApnEy4"
      },
      "outputs": [],
      "source": [
        "import numpy as np"
      ]
    },
    {
      "cell_type": "code",
      "execution_count": 4,
      "metadata": {
        "id": "5lJOng8MkeSQ"
      },
      "outputs": [],
      "source": [
        "# retourne la valeur de la fonction et de sont gradient\n",
        "\n",
        "def J1 (v): \n",
        "    N = len(v)\n",
        "    ones = np.ones(N)\n",
        "    return [np.dot(v-ones,v-ones), 2*(v-ones)]\n",
        "\n",
        "def J2 (v):\n",
        "    N = len(v)\n",
        "    i = np.arange(1, N+1)\n",
        "    return [np.dot(v-i, v-i), 2*(v-i)]\n",
        "\n",
        "## JR Rosenbrock\n",
        "def JR (v):\n",
        "    v = np.array(v)\n",
        "    N = len(v)\n",
        "    ones = np.ones(N-1)\n",
        "\n",
        "    # JR Values\n",
        "    vect1 = v[1:] - (v[:-1]*v[:-1])\n",
        "    vect2 = v[:-1] - ones\n",
        "    values = np.dot(vect1, vect1) + np.dot(vect2, vect2)\n",
        "\n",
        "    # JR Gradient\n",
        "    vect1 = 2*(v[:-1] - ones) - 4*v[:-1]*(v[1:] - v[:-1]**2)\n",
        "    vect2 = 2*(v[1:] - v[:-1]**2)\n",
        "    gradient = np.append(vect1, 0) + np.insert(vect2, 0, 0)\n",
        "\n",
        "    return [values, gradient]"
      ]
    },
    {
      "cell_type": "markdown",
      "metadata": {
        "id": "xR8TilSFmsnW"
      },
      "source": [
        "Evaluations des fonctions et de leurs gradients :"
      ]
    },
    {
      "cell_type": "code",
      "execution_count": 5,
      "metadata": {
        "colab": {
          "base_uri": "https://localhost:8080/"
        },
        "id": "Gd56U-LLkeSW",
        "outputId": "3504482c-ea03-46ba-ea36-bcfb709a7258"
      },
      "outputs": [
        {
          "name": "stdout",
          "output_type": "stream",
          "text": [
            "La valeur de J_1 en v=[1 2 1] est égale à 1.0\n",
            "Le gradient de J_1 en v=[1 2 1] est égale à [0. 2. 0.]\n"
          ]
        }
      ],
      "source": [
        "## prendre des exemples test\n",
        "\n",
        "v = np.array([1,2,1]) \n",
        "J1(v)\n",
        "\n",
        "[J0,G0] = J1(v)\n",
        "\n",
        "print ('La valeur de J_1 en v={} est égale à {}'.format(v,J0))\n",
        "print (r'Le gradient de J_1 en v={} est égale à {}'.format(v,G0))"
      ]
    },
    {
      "cell_type": "code",
      "execution_count": 6,
      "metadata": {},
      "outputs": [
        {
          "data": {
            "text/plain": [
              "[0, array([0, 0, 0])]"
            ]
          },
          "execution_count": 6,
          "metadata": {},
          "output_type": "execute_result"
        }
      ],
      "source": [
        "J2([1, 2, 3])"
      ]
    },
    {
      "cell_type": "code",
      "execution_count": 7,
      "metadata": {},
      "outputs": [
        {
          "data": {
            "text/plain": [
              "[3.0, array([-4., 12., -2.])]"
            ]
          },
          "execution_count": 7,
          "metadata": {},
          "output_type": "execute_result"
        }
      ],
      "source": [
        "JR([1, 2, 3])"
      ]
    },
    {
      "cell_type": "markdown",
      "metadata": {
        "id": "noLyNxDlroL8"
      },
      "source": [
        "Traçage des fonctions par rapport à la dernière variable :"
      ]
    },
    {
      "cell_type": "code",
      "execution_count": 8,
      "metadata": {
        "id": "tXk1NkG0nzx7"
      },
      "outputs": [],
      "source": [
        "%matplotlib inline\n",
        "import matplotlib.pyplot as plt\n",
        "import seaborn as sns\n",
        "sns.set()"
      ]
    },
    {
      "cell_type": "code",
      "execution_count": 9,
      "metadata": {
        "colab": {
          "base_uri": "https://localhost:8080/",
          "height": 364
        },
        "id": "GKZRPDwn1YzM",
        "outputId": "5175a2f1-0a38-4850-b67e-2a9f4c9a74c5"
      },
      "outputs": [
        {
          "data": {
            "text/plain": [
              "[<matplotlib.lines.Line2D at 0x7fde71f90310>]"
            ]
          },
          "execution_count": 9,
          "metadata": {},
          "output_type": "execute_result"
        },
        {
          "data": {
            "image/png": "[encoded data removed]",
            "text/plain": [
              "<Figure size 640x480 with 1 Axes>"
            ]
          },
          "metadata": {},
          "output_type": "display_data"
        }
      ],
      "source": [
        "## Ici on trace J(1,2,1,x) avec x entre -5 et 15 juste pour voir ces variations par rapport à une variable (la dernière)\n",
        "\n",
        "x = np.linspace(-5,15,100)\n",
        "v =np.array([1,2,1])\n",
        "\n",
        "y1 = [J1(np.append(v,xi))[0] for xi in x]\n",
        "y2 = [J2(np.append (v,xi))[0] for xi in x]\n",
        "yR = [JR(np.append (v,xi))[0] for xi in x]\n",
        "\n",
        "plt.plot(x,y1,color=\"red\")\n",
        "plt.plot(x,y2,color=\"blue\")\n",
        "plt.plot(x,yR,color=\"green\")"
      ]
    },
    {
      "cell_type": "markdown",
      "metadata": {
        "id": "xN_4Y1gekeSb"
      },
      "source": [
        "## Etape 1.\n",
        "> Rappeler les trois versions GF, GV et GO, et identifier l’ensemble des données utilisateur, numériques, et de contrôle."
      ]
    },
    {
      "attachments": {},
      "cell_type": "markdown",
      "metadata": {
        "id": "4ZfcPOt1keSc"
      },
      "source": [
        "- **GF: Gradient Fixe**<br>\n",
        "L'algorithme du Gradient Fixe constitue une méthode d'optimisation employée pour réduire une fonction de coût en ajustant itérativement les paramètres du modèle. Son fonctionnement débute par l'initialisation d'une valeur u. Par la suite, le gradient est calculé en ce point spécifique. Pour itérer et minimiser u, la valeur de u est mise à jour en la remplaçant par elle-même soustraite de la multiplication du gradient en ce point par un pas fixe, choisi à l'avance. C'est cette caractéristique de multiplication par un pas fixe qui confère à l'algorithme son appellation \"fixe\". Cette méthode permet ainsi de converger graduellement vers le minimum recherché.<br><br>\n",
        "    - Données utilisateurs: La fonction cout **J**, le pas fixe **t**, \n",
        "    - Données numériques: tolerance sur la norment du gradient **eps**, le nombre maximal d'iterations **Kmax**, La valeur initial de **u**\n",
        "    - Les condtions d'arrets **$\\nabla J(u)$ < eps or iterration == Kmax:**<br><br>\n",
        "    - Algorithme: \n",
        "    - $u = u_0$\n",
        "    - $k = 0$\n",
        "    - $p = $\"asigner une valeur de pas fixe arbitraire\"\n",
        "    - Faire \n",
        "        - grad = $\\nabla J(u)$\n",
        "        - u = u - (p * grad)\n",
        "        - k++\n",
        "    - Tant que $||grad||>\\epsilon$ ou $k \\neq kmax$\n",
        "    - Return (k, u)\n",
        "\n",
        "<br>\n",
        "\n",
        "- **GO: Gradient Optimal**<br>\n",
        "L'algorithme du Gradient Optimal constitue une méthode d'optimisation employée pour réduire une fonction de coût en ajustant itérativement les paramètres du modèle. Son fonctionnement débute par l'initialisation d'une valeur u. Par la suite, le gradient est calculé en ce point spécifique. Pour itérer et minimiser u, la valeur de u est mise à jour en la remplaçant par elle-même soustraite de la multiplication du gradient en ce point par un pas optimal, qui est calculé en ce point et qui est fontion du pas precedent. L'idée du pas optimal est de trouver la valeur de $p$ qui minimise $J(u_k -p\\nabla J(u_k ))$. C'est cette caractéristique de calcul dynamique du pas avant chaque mis a jour de **u** qui confère à l'algorithme son appellation \"optimal\". Cette méthode permet ainsi de converger plus efficacement vers le minimum recherché sans se soucier pu pas choisit.<br><br>\n",
        "    - Données utilisateurs: La fonction cout **J**, un pas abitraire qui sera dynamiquement changé **t**, \n",
        "    - Données numériques: tolerance sur la norment du gradient **eps**, le nombre maximal d'iterations **Kmax**, La valeur initial de **u**\n",
        "    - Les condtions d'arrets **$\\nabla J(u)$ < eps or iterration == Kmax:**<br><br>\n",
        "    - Algorithme: \n",
        "    - $u = u_0$\n",
        "    - $k = 0$\n",
        "    - $p = $\"valeur aleatoire > 0\"\n",
        "    - Faire \n",
        "        - grad = $\\nabla J(u)$\n",
        "        - $p = PasOptimal(u, p)$\n",
        "        - u = u - (p * grad)\n",
        "        - k++\n",
        "    - Tant que $||grad||>\\epsilon$ ou $k \\neq kmax$\n",
        "    - Retourne (k, u)<br><br>\n",
        "    - PasOptimal(u, p): \n",
        "    - L'idee du calcul du pas optimal est $J(u_k -p\\nabla J(u_k )) \\approx J(u_k) - p_{k}\\nabla J(u)^T\\nabla J(u) + \\lambda{_k}p_{k}^2 = $ anssi pot $p_{k-1}$ on tire $\\lambda$. Enfin On derive J par rapport a t et l'on trouve le t qui annule le gradient qui est donc le pas optimal.<br><br>\n",
        "    - Algorithme: \n",
        "    - $grad = \\nabla J(u)$\n",
        "    - Retourne $\\frac{grad^T.grad}{2\\left(J(u - p.grad) - J(u) + \\frac{p grad^T.grad}{p^2}\\right)}$\n",
        "    \n",
        "<br>\n",
        "\n",
        "- **GO: Gradient Variable, congugé**<br>\n",
        "La methode GO pose des problemes comme l'Oscillations le long de la direction du gradient ce qui rend la convergence lente des fois. Le gradient conjugué est une méthode d'optimisation utilisée pour minimiser les fonctions de coût. Son principe repose sur une approche itérative qui tient compte des directions conjugées pour accélérer la convergence par rapport à la méthode du gradient optimal. "
      ]
    },
    {
      "cell_type": "markdown",
      "metadata": {
        "id": "7JJwEzxvkeSc"
      },
      "source": [
        "## Etape 2.\n",
        "- Ecrire le programme GF (utiliser les modules déjà définis de calcul de la fonction coût et de son gradient pour les fonctions $J_1$, $J_2$, $J_R$).\n",
        "- Effectuer les tests de validation de GF pour les fonctions $J_1$ et $J_2$ ($N = 10,20,40$) : On prendra un pas fixe $t = 1$, qu’observe t-on et pourquoi ? puis prendre $t=0.1$ et ensuite $t = 0.5$."
      ]
    },
    {
      "cell_type": "markdown",
      "metadata": {
        "id": "92H9y5xZpjm9"
      },
      "source": [
        "**Pseudocode**\n",
        "\n",
        ">  \n",
        "- Initiaisation: $u_0 \\in {\\mathbb R}^n$ arbitraire et pas $t>0$\n",
        "- Itérations: répéter pour $k=0,1,\\dots$   \n",
        "  - calculer le gradient $\\nabla f (u_{k})$;\n",
        "  - calculer $u_{k+1} = u_{k} - t \\nabla f (u_{k})$;\n",
        "- Critère d'arrêt:  $\\|\\nabla f (u_{k}) \\|_2 \\leq \\epsilon$ $\\big($on utilise ici la norme euclidienne $\\|\\cdot \\|_2$ $\\big)$\n"
      ]
    },
    {
      "attachments": {},
      "cell_type": "markdown",
      "metadata": {},
      "source": []
    },
    {
      "cell_type": "code",
      "execution_count": 11,
      "metadata": {
        "id": "VaOAPHTlkeSd"
      },
      "outputs": [],
      "source": [
        "# Modifier ici le choix de fonction, J1, J2, JR\n",
        "def cost(v):\n",
        "  return J1(v)"
      ]
    },
    {
      "cell_type": "code",
      "execution_count": 12,
      "metadata": {
        "id": "ckiVILlFpeFN"
      },
      "outputs": [
        {
          "name": "stdout",
          "output_type": "stream",
          "text": [
            "PAS=1\t - Nombre d'itération: 1500\t - Vecteur u*: [0. 0. 0. 0. 0. 0. 0. 0. 0. 0.]\n",
            "PAS=0.1\t - Nombre d'itération: 81\t - Vecteur u*: [0.99999999 0.99999999 0.99999999 0.99999999 0.99999999 0.99999999\n",
            " 0.99999999 0.99999999 0.99999999 0.99999999]\n",
            "PAS=0.5\t - Nombre d'itération: 1\t - Vecteur u*: [1. 1. 1. 1. 1. 1. 1. 1. 1. 1.]\n"
          ]
        }
      ],
      "source": [
        "def gradient_fixe(J, t=1):\n",
        "    \"\"\"\n",
        "    Algorithme de descente de gradent utilisant le pas fixe \n",
        "    params: t [1, 0.1, 0.5]\n",
        "    Output: k(iteration), u(optimal_solution)\n",
        "    \"\"\"\n",
        "    N=10            # nombre de variables d'optimisation (ou dimension du probleme)\n",
        "    eps = 1.e-7     # tolerance sur la norme du gradient\n",
        "    Kmax = 1500     # nombre max d'iterations\n",
        "\n",
        "    # First guess : u0\n",
        "    u0 = np.zeros(N)\n",
        "    k = 0\n",
        "    u = u0\n",
        "\n",
        "    # Itération de GF\n",
        "    while True:\n",
        "        grad = J(u)[1]\n",
        "        if np.linalg.norm(grad) < eps or k == Kmax:\n",
        "            break\n",
        "        u = u - (t*grad)\n",
        "        k += 1\n",
        "        \n",
        "    # Arret\n",
        "    print(f\"PAS={t}\\t - Nombre d'itération: {k}\\t - Vecteur u*: {u}\")\n",
        "\n",
        "gradient_fixe(J1, 1)\n",
        "gradient_fixe(J1, 0.1)\n",
        "gradient_fixe(J1, 0.5)"
      ]
    },
    {
      "cell_type": "markdown",
      "metadata": {
        "id": "xz3kVbRJkeSj"
      },
      "source": [
        "## Etape 3.\n",
        "> Dans cette étape on va construire l’approximation parabolique de la fonction $f(t) = J(u_k − t\\nabla J(u_k))$, qui utilise $f(0)$, $f′(0)$ et $f(t_{k−1})$. S’en servir pour implémenter une approximation du calcul du pas optimal $t_k$. Valider GO sur les cas $J_1$ et $J_2$. Comparer ensuite GF et GO sur $J_R$ (tracer, sur le même graphique, les 2 courbes de convergence des coûts en fonction des itérations)."
      ]
    },
    {
      "cell_type": "markdown",
      "metadata": {
        "id": "Mmci-kkhrdAb"
      },
      "source": [
        "Etant donné $u_k$, la valeur $J(u_k)$ et le gradient $\\nabla J(u_k)$, on propose d'approcher $J$ par un modèle quadratique au voisinage de $u_k$ le long du gradient $G_k:= \\nabla J (u_k)$, soit\n",
        "\n",
        "$$\n",
        "f(t):= J(u_k- t G_k ) \\simeq J(u_k) - t G_k^\\top G_k + \\gamma_k t^2 =: \\tilde{f}(t),\n",
        "$$\n",
        "avec $\\gamma_k$  un scalaire qu'il faut identifier . On a en particulier,\n",
        "\n",
        "$$\n",
        "f(0)=J(u_k),\n",
        "\\quad\\quad f'(0)= - G_k^\\top G_k.\n",
        "$$\n",
        "\n",
        "- En prenant $\\tilde{f}(t_{k-1}) = f(t_{k-1})$, **identifier** l'expression de $\\gamma_k$ en fonction de $t_{k-1}, f(t_{k-1}), J(u_k)$ et $\\nabla J (u_k)$.  \n",
        "- **En déduire** l'approximation $t_{k}:=\\mathop{\\mathrm{argmin}}\\limits_{t>0}\\tilde{f}(t)$ du pas optimal en fonction de $\\gamma_k$ et $\\nabla J(u_k)$.\n",
        "- **Implémenter** l'expression du pas optimal approché pour $J_1$, $J_2$ et $J_R$ dans la fonction suivante (où $u$ joue le rôle de $u_{k}$ et $t$ joue le rôle de $t_{k-1}$):\n"
      ]
    },
    {
      "cell_type": "code",
      "execution_count": 13,
      "metadata": {
        "id": "azSkdZAGqB0r"
      },
      "outputs": [],
      "source": [
        "# abstract OptimalStep\n",
        "def OptimalStep(J, u, t):\n",
        "  grad = J(u)[1]\n",
        "  lambda_k = (J(u - t*grad)[0] - J(u)[0] + (t*np.dot(grad.T, grad))) / t**2\n",
        "  tk = np.dot(grad.T, grad) / (2 * lambda_k)\n",
        "  return tk\n",
        "\n",
        "def PasOptJ1(u,t):\n",
        "  return OptimalStep(J1, u, t)\n",
        "\n",
        "def PasOptJ2(u,t):\n",
        "  return OptimalStep(J2, u, t)\n",
        "\n",
        "def PasOptJR(u,t):\n",
        "  return OptimalStep(JR, u, t)\n"
      ]
    },
    {
      "cell_type": "markdown",
      "metadata": {
        "id": "fuQ7RROFrhju"
      },
      "source": [
        "**Pseudocode du GO (approché)**\n",
        "\n",
        ">  \n",
        "- Initialisation: prende un vecteur $u_0 \\in {\\mathbb R}^n$ arbitraire et un scalaire arbitraire $t_{-1}>0$\n",
        "- Itérations: Répéter pour $k=0, 1,\\dots$\n",
        "  - Calculer le pas optimal approché $t_k$;\n",
        "  - Calculer $u_{k+1} = u_{k} - t_{k} \\nabla J (u_{k})$;\n",
        "- Critère d'arrêt:  $\\|\\nabla J (u_{k}) \\|_2 \\leq \\epsilon$\n"
      ]
    },
    {
      "cell_type": "markdown",
      "metadata": {
        "id": "1INY56HgNkT3"
      },
      "source": [
        "Valider cet algorithme GO sur les cas $J_1$ et $J_2$."
      ]
    },
    {
      "cell_type": "code",
      "execution_count": 14,
      "metadata": {
        "id": "4URIxmflqBjO"
      },
      "outputs": [
        {
          "name": "stdout",
          "output_type": "stream",
          "text": [
            "[PasOptJ1]\tNombre d'itération: 1\t - Vecteur u*: [1. 1. 1. 1. 1. 1. 1. 1. 1. 1.]\n",
            "[PasOptJ2]\tNombre d'itération: 1\t - Vecteur u*: [ 1.  2.  3.  4.  5.  6.  7.  8.  9. 10.]\n",
            "[PasOptJR]\tNombre d'itération: 325\t - Vecteur u*: [1.         1.         1.         1.         1.         1.\n",
            " 0.99999999 0.99999997 0.99999993 0.99999982]\n"
          ]
        }
      ],
      "source": [
        "def gradient_optimal(PasOptimal, J):\n",
        "    \"\"\"\n",
        "    Algorithme de descente de gradent utilisant la **méthode du pas optimal** \n",
        "    Output: k(iteration), u(optimal_solution)\n",
        "    \"\"\"\n",
        "    N=10            # nombre de variables d'optimisation (ou dimension du probleme)\n",
        "    eps = 1.e-7     # tolerance sur la norme du gradient\n",
        "    Kmax = 1500     # nombre max d'iterations\n",
        "\n",
        "    # Premier pas arbitraire, t>0\n",
        "    t = np.random.uniform(0.1, 4)\n",
        "\n",
        "    # First guess : u0\n",
        "    u0 = np.zeros(N)\n",
        "    k = 0\n",
        "    u = u0\n",
        "\n",
        "    # Itération de GF\n",
        "    while True:\n",
        "        grad = J(u)[1]\n",
        "        if np.linalg.norm(grad) < eps or k == Kmax:\n",
        "            break\n",
        "        t = PasOptimal(u, t)\n",
        "        u = u - (t*grad)\n",
        "        k += 1\n",
        "        \n",
        "\n",
        "    # Arret\n",
        "    print(f\"[{PasOptimal.__name__}]\\tNombre d'itération: {k}\\t - Vecteur u*: {u}\")\n",
        "\n",
        "gradient_optimal(PasOptJ1, J1)\n",
        "gradient_optimal(PasOptJ2, J2)\n",
        "gradient_optimal(PasOptJR, JR)"
      ]
    },
    {
      "cell_type": "markdown",
      "metadata": {
        "id": "bNMdWt2IaPpW"
      },
      "source": [
        "Comparer ensuite GF et GO sur  $J_R$  (tracer, sur le même graphique, les 2 courbes de convergence des coûts en fonction des itérations)"
      ]
    },
    {
      "cell_type": "code",
      "execution_count": 15,
      "metadata": {},
      "outputs": [
        {
          "name": "stdout",
          "output_type": "stream",
          "text": [
            "PAS=0.1\t - Nombre d'itération: 370\t - Vecteur u*: [1.         1.         1.         1.         1.         0.99999999\n",
            " 0.99999999 0.99999996 0.99999991 0.99999977]\n",
            "PAS=0.101\t - Nombre d'itération: 366\t - Vecteur u*: [1.         1.         1.         1.         1.         0.99999999\n",
            " 0.99999999 0.99999996 0.99999991 0.99999977]\n",
            "PAS=0.09\t - Nombre d'itération: 412\t - Vecteur u*: [1.         1.         1.         1.         1.         0.99999999\n",
            " 0.99999999 0.99999996 0.99999991 0.99999977]\n"
          ]
        }
      ],
      "source": [
        "# FIXE JR\n",
        "gradient_fixe(JR, 0.1)\n",
        "gradient_fixe(JR, 0.101)\n",
        "gradient_fixe(JR, 0.09)"
      ]
    },
    {
      "cell_type": "code",
      "execution_count": 16,
      "metadata": {},
      "outputs": [
        {
          "name": "stdout",
          "output_type": "stream",
          "text": [
            "[PasOptJR]\tNombre d'itération: 345\t - Vecteur u*: [1.         1.         1.         1.         1.         0.99999999\n",
            " 0.99999999 0.99999997 0.99999993 0.99999982]\n"
          ]
        }
      ],
      "source": [
        "# OPTIMAL JR\n",
        "gradient_optimal(PasOptJR, JR)"
      ]
    },
    {
      "cell_type": "code",
      "execution_count": 24,
      "metadata": {
        "id": "JLjLKor2aQG0"
      },
      "outputs": [
        {
          "data": {
            "image/png": "[encoded data removed]",
            "text/plain": [
              "<Figure size 640x480 with 1 Axes>"
            ]
          },
          "metadata": {},
          "output_type": "display_data"
        }
      ],
      "source": [
        "def courbe_de_convergence():\n",
        "    J = JR\n",
        "    PasOptimal = PasOptJR\n",
        "\n",
        "    N=10\n",
        "    eps = 1.e-7\n",
        "    Kmax = 329\n",
        "\n",
        "    # records of step and cost\n",
        "    step = []\n",
        "    cost_fix = []\n",
        "    cost_opt = []\n",
        "\n",
        "    # OPTIMAL\n",
        "    t = 1\n",
        "    u0 = np.zeros(N)\n",
        "    k = 0\n",
        "    u = u0\n",
        "    while True:\n",
        "        grad = J(u)[1]\n",
        "        if np.linalg.norm(grad) < eps or k == Kmax:\n",
        "            break\n",
        "        t = PasOptimal(u, t)\n",
        "        u = u - (t*grad)\n",
        "        k += 1\n",
        "        step.append(k)\n",
        "        cost_opt.append(J(u)[0])\n",
        "\n",
        "    # FIXE\n",
        "    t = 0.1\n",
        "    u0 = np.zeros(N)\n",
        "    k = 0\n",
        "    u = u0\n",
        "    while True:\n",
        "        grad = J(u)[1]\n",
        "        if np.linalg.norm(grad) < eps or k == Kmax:\n",
        "            break\n",
        "        u = u - (t*grad)\n",
        "        k += 1\n",
        "        cost_fix.append(J(u)[0])\n",
        "        \n",
        "\n",
        "    # Plot\n",
        "    plt.plot(step, cost_opt, color='blue', label='Optimal Gradient')\n",
        "    plt.plot(step, cost_fix, color='red', label='Fixed Gradient')\n",
        "    plt.xlabel('Step')\n",
        "    plt.ylabel('Cost')\n",
        "    plt.legend()\n",
        "    plt.show()\n",
        "\n",
        "courbe_de_convergence()"
      ]
    },
    {
      "cell_type": "markdown",
      "metadata": {
        "id": "fav1ULpPkeSk"
      },
      "source": [
        "## Etape 5.\n",
        "> Etudier les méthodes GF et GO sur le cas de la fonction $J_H (x, y) = (x^2 +y−2)^2 +(y^2 −2x+1)^2$ . On prendra comme guess initial $u_0 = (0, 0)$ puis $u_0 = (1.5, −1.5)$. Que constatez-vous ? Comment valider ce constat ?"
      ]
    },
    {
      "attachments": {},
      "cell_type": "markdown",
      "metadata": {},
      "source": [
        "Gradient: $\\nabla J_H(v) = \\begin{bmatrix} \\frac{\\partial J_h}{\\partial x} = 4x^3 - 4y^2 + 4xy - 4 \\\\  \\frac{\\partial J_h}{\\partial y} = 4y^3 + 2x^2 + 6y - 8xy - 4 \\end{bmatrix} $\n",
        "Solution: $ v^* = \\begin{bmatrix} 1 \\\\ 1 \\end{bmatrix} $"
      ]
    },
    {
      "cell_type": "code",
      "execution_count": 25,
      "metadata": {
        "id": "SLSNmsf6Rc66"
      },
      "outputs": [],
      "source": [
        "def JH(v):\n",
        "    v = np.array(v)\n",
        "    n = 2\n",
        "\n",
        "    # Cost\n",
        "    value = (v[0]**2 + v[1] - 2)**2 + (v[1]**2 - 2*v[0] + 1)**2\n",
        "\n",
        "    # Gradient\n",
        "    x = v[0]\n",
        "    y = v[1]\n",
        "    gradient = np.array([4*(x**3-y**2+(x*y)-1), (4*(y**3) + 2*(x**2) + (6*y) - (8*x*y) - 4)])\n",
        "\n",
        "    return [value, gradient]"
      ]
    },
    {
      "cell_type": "code",
      "execution_count": 26,
      "metadata": {},
      "outputs": [
        {
          "name": "stdout",
          "output_type": "stream",
          "text": [
            "PAS=0.085\t - Nombre d'itération: 25\t - Vecteur u*: [1. 1.]\n",
            "PAS=0.06\t - Nombre d'itération: 35\t - Vecteur u*: [0.99999999 0.99999999]\n"
          ]
        }
      ],
      "source": [
        "# Fixe sur Fh\n",
        "\n",
        "def gradient_fixe(J,  u0, t=1,):\n",
        "    eps = 1.e-7     # tolerance sur la norme du gradient\n",
        "    Kmax = 1500     # nombre max d'iterations\n",
        "\n",
        "    # First guess : u0\n",
        "\n",
        "    k = 0\n",
        "    u = np.array(u0)\n",
        "\n",
        "    # Itération de GF\n",
        "    while True:\n",
        "        grad = J(u)[1]\n",
        "        if np.linalg.norm(grad) < eps or k == Kmax:\n",
        "            break\n",
        "        u = u - (t*grad)\n",
        "        k += 1\n",
        "        \n",
        "\n",
        "    # Arret\n",
        "    print(f\"PAS={t}\\t - Nombre d'itération: {k}\\t - Vecteur u*: {u}\")\n",
        "\n",
        "gradient_fixe(JH, [0, 0], 0.085)\n",
        "gradient_fixe(JH, [1.5, -1.5], 0.06)"
      ]
    },
    {
      "cell_type": "code",
      "execution_count": 27,
      "metadata": {},
      "outputs": [
        {
          "name": "stdout",
          "output_type": "stream",
          "text": [
            "[PasOptJH]\tNombre d'itération: 13\t - Vecteur u*: [1. 1.]\n"
          ]
        }
      ],
      "source": [
        "def PasOptJH(u,t):\n",
        "  return OptimalStep(JH, u, t)\n",
        "\n",
        "def gradient_optimal(PasOptimal, J, u0):\n",
        "    eps = 1.e-7     # tolerance sur la norme du gradient\n",
        "    Kmax = 1500     # nombre max d'iterations\n",
        "\n",
        "    # Premier pas arbitraire, t>0\n",
        "    t = np.random.uniform(0.1, 4)\n",
        "\n",
        "    # First guess : u0\n",
        "    u = np.array(u0)\n",
        "    k = 0\n",
        "\n",
        "    # Itération de GF\n",
        "    while True:\n",
        "        grad = J(u)[1]\n",
        "        if np.linalg.norm(grad) < eps or k == Kmax:\n",
        "            break\n",
        "        t = PasOptimal(u, t)\n",
        "        u = u - (t*grad)\n",
        "        k += 1\n",
        "\n",
        "    # Arret\n",
        "    print(f\"[{PasOptimal.__name__}]\\tNombre d'itération: {k}\\t - Vecteur u*: {u}\")\n",
        "\n",
        "gradient_optimal(PasOptJH, JH, [0, 0])"
      ]
    },
    {
      "cell_type": "code",
      "execution_count": null,
      "metadata": {},
      "outputs": [],
      "source": []
    }
  ],
  "metadata": {
    "colab": {
      "provenance": []
    },
    "kernelspec": {
      "display_name": "Python 3",
      "name": "python3"
    },
    "language_info": {
      "codemirror_mode": {
        "name": "ipython",
        "version": 3
      },
      "file_extension": ".py",
      "mimetype": "text/x-python",
      "name": "python",
      "nbconvert_exporter": "python",
      "pygments_lexer": "ipython3",
      "version": "3.10.9"
    }
  },
  "nbformat": 4,
  "nbformat_minor": 0
}
