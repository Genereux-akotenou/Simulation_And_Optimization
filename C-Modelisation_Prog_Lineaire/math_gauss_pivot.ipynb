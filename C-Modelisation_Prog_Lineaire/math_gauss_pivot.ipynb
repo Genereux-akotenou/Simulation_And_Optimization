{
 "cells": [
  {
   "cell_type": "code",
   "execution_count": 5,
   "metadata": {},
   "outputs": [],
   "source": [
    "import numpy as np"
   ]
  },
  {
   "cell_type": "code",
   "execution_count": 6,
   "metadata": {},
   "outputs": [],
   "source": [
    "\"\"\"\n",
    "Solves a linear system of equations using Gauss elimination. We do not manager case where pivot is null here.\n",
    "\n",
    "Args:\n",
    "A (numpy.ndarray): Coefficient matrix.\n",
    "b (numpy.ndarray): Right-hand side vector.\n",
    "\n",
    "Returns:\n",
    "x (numpy.ndarray): Solution vector.\n",
    "\"\"\"\n",
    "def gauss_pivot_v1(A, b):\n",
    "    n = len(b)\n",
    "    x = np.zeros(n)\n",
    "\n",
    "    for k in range(0, n-1):\n",
    "        # Let's transform the system into an upper triangular matrix.\n",
    "        for i in range(k + 1, n):\n",
    "            pivot = A[i, k] / A[k, k]\n",
    "            for j in range(k, n):\n",
    "                A[i, j] -= pivot * A[k, j]\n",
    "            b[i] -= pivot * b[k]\n",
    "\n",
    "    # Solving, let compute x\n",
    "    for i in range(n - 1, -1, -1):\n",
    "        x[i] = (b[i] - np.dot(A[i, i+1:], x[i+1:])) / A[i, i]\n",
    "\n",
    "    return x"
   ]
  },
  {
   "cell_type": "code",
   "execution_count": 16,
   "metadata": {},
   "outputs": [],
   "source": [
    "\"\"\"\n",
    "Solves a linear system of equations using Gauss elimination. We manager case where pivot is null here.\n",
    "\n",
    "Args:\n",
    "A (numpy.ndarray): Coefficient matrix.\n",
    "b (numpy.ndarray): Right-hand side vector.\n",
    "\n",
    "Returns:\n",
    "x (numpy.ndarray): Solution vector.\n",
    "\"\"\"\n",
    "def gauss_pivot_v2(A, b):\n",
    "    n = len(b)\n",
    "    x = np.zeros(n)\n",
    "\n",
    "    for k in range(0, n-1):\n",
    "        # Let's find for maximum pivot in column k\n",
    "        row_with_max_pivot = k\n",
    "        for i in range(k + 1, n):\n",
    "            if abs(A[i, k]) > abs(A[row_with_max_pivot, k]):\n",
    "                row_with_max_pivot = i\n",
    "        \n",
    "        A[[k, row_with_max_pivot]] = A[[row_with_max_pivot, k]]\n",
    "        b[k], b[row_with_max_pivot] = b[row_with_max_pivot], b[k]\n",
    "\n",
    "        if A[k][k] == 0:\n",
    "            return np.zeros(n)\n",
    "\n",
    "        # Let's transform the system into an upper triangular matrix.\n",
    "        for i in range(k + 1, n):\n",
    "            pivot = A[i, k] / A[k, k]\n",
    "            for j in range(k, n):\n",
    "                A[i, j] -= pivot * A[k, j]\n",
    "            b[i] -= pivot * b[k]\n",
    "            \n",
    "        print(A)\n",
    "\n",
    "    # Solving, let compute x\n",
    "    for i in range(n - 1, -1, -1):\n",
    "        x[i] = (b[i] - np.dot(A[i, i+1:], x[i+1:])) / A[i, i]\n",
    "\n",
    "    return x"
   ]
  },
  {
   "cell_type": "code",
   "execution_count": 17,
   "metadata": {},
   "outputs": [],
   "source": [
    "A = np.array([[0, 1, 3],\n",
    "              [5, 2, 3],\n",
    "              [6, 8, 3]], dtype=float)\n",
    "b = np.array([1, 4, 1], dtype=float)"
   ]
  },
  {
   "cell_type": "code",
   "execution_count": 18,
   "metadata": {},
   "outputs": [
    {
     "name": "stdout",
     "output_type": "stream",
     "text": [
      "[[ 6.          8.          3.        ]\n",
      " [ 0.         -4.66666667  0.5       ]\n",
      " [ 0.          1.          3.        ]]\n",
      "[[ 6.          8.          3.        ]\n",
      " [ 0.         -4.66666667  0.5       ]\n",
      " [ 0.          0.          3.10714286]]\n",
      "Solution du système : [ 0.72413793 -0.62068966  0.54022989]\n"
     ]
    }
   ],
   "source": [
    "x = gauss_pivot_v2(A, b)\n",
    "print(f\"Solution du système : {x}\")"
   ]
  },
  {
   "cell_type": "code",
   "execution_count": 19,
   "metadata": {},
   "outputs": [],
   "source": [
    "import scipy"
   ]
  },
  {
   "cell_type": "code",
   "execution_count": 21,
   "metadata": {},
   "outputs": [],
   "source": [
    "\"\"\"\n",
    "Factorization L.U\n",
    "\"\"\"\n",
    "A = np.array([ [7, 3, -1, 2], [3, 8, 1, -4], [-1, 1, 4, -1], [2, -4, -1, 6] ])\n",
    "P, L, U = scipy.linalg.lu(A)"
   ]
  },
  {
   "cell_type": "code",
   "execution_count": null,
   "metadata": {},
   "outputs": [],
   "source": [
    "P"
   ]
  },
  {
   "cell_type": "code",
   "execution_count": null,
   "metadata": {},
   "outputs": [],
   "source": [
    "L"
   ]
  },
  {
   "cell_type": "code",
   "execution_count": null,
   "metadata": {},
   "outputs": [],
   "source": [
    "U"
   ]
  }
 ],
 "metadata": {
  "kernelspec": {
   "display_name": "Python 3 (ipykernel)",
   "language": "python",
   "name": "python3"
  },
  "language_info": {
   "codemirror_mode": {
    "name": "ipython",
    "version": 3
   },
   "file_extension": ".py",
   "mimetype": "text/x-python",
   "name": "python",
   "nbconvert_exporter": "python",
   "pygments_lexer": "ipython3",
   "version": "3.10.9"
  }
 },
 "nbformat": 4,
 "nbformat_minor": 2
}
