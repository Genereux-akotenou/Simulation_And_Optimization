{
 "cells": [
  {
   "cell_type": "markdown",
   "metadata": {},
   "source": [
    "* Utils"
   ]
  },
  {
   "cell_type": "code",
   "execution_count": 47,
   "metadata": {},
   "outputs": [],
   "source": [
    "import numpy as np\n",
    "import pandas as pd\n",
    "from scipy.optimize import minimize\n",
    "import yfinance as yf"
   ]
  },
  {
   "attachments": {},
   "cell_type": "markdown",
   "metadata": {},
   "source": [
    "* Problem Data"
   ]
  },
  {
   "cell_type": "code",
   "execution_count": 48,
   "metadata": {},
   "outputs": [
    {
     "name": "stderr",
     "output_type": "stream",
     "text": [
      "[*********************100%%**********************]  5 of 5 completed\n"
     ]
    }
   ],
   "source": [
    "tickers = ['AAPL', 'MSFT', 'GOOGL', 'NFLX', 'ABNB']\n",
    "data = yf.download(tickers, start=\"2020-01-01\", end=\"2024-01-01\")['Adj Close']\n",
    "\n",
    "# Calculate daily returns\n",
    "returns = data.pct_change().dropna()\n",
    "expected_returns = returns.mean()\n",
    "cov_matrix = returns.cov()"
   ]
  },
  {
   "cell_type": "code",
   "execution_count": 49,
   "metadata": {},
   "outputs": [],
   "source": [
    "expected_returns = np.array([0.09, 0.12, 0.15, 0.06])\n",
    "cov_matrix = np.array([\n",
    "    [0, -0.5, 0.35, 0],\n",
    "    [0, 0, 0.25, 0],\n",
    "    [0, 0, 0, 0],\n",
    "    [0, 0, 0, 0],\n",
    "])\n",
    "var = np.array([0.2, 0.3, 0.35, 0.15])"
   ]
  },
  {
   "cell_type": "code",
   "execution_count": 50,
   "metadata": {},
   "outputs": [
    {
     "name": "stdout",
     "output_type": "stream",
     "text": [
      "Expected return: \n"
     ]
    },
    {
     "data": {
      "text/html": [
       "<div>\n",
       "<style scoped>\n",
       "    .dataframe tbody tr th:only-of-type {\n",
       "        vertical-align: middle;\n",
       "    }\n",
       "\n",
       "    .dataframe tbody tr th {\n",
       "        vertical-align: top;\n",
       "    }\n",
       "\n",
       "    .dataframe thead th {\n",
       "        text-align: right;\n",
       "    }\n",
       "</style>\n",
       "<table border=\"1\" class=\"dataframe\">\n",
       "  <thead>\n",
       "    <tr style=\"text-align: right;\">\n",
       "      <th></th>\n",
       "      <th>0</th>\n",
       "    </tr>\n",
       "  </thead>\n",
       "  <tbody>\n",
       "    <tr>\n",
       "      <th>0</th>\n",
       "      <td>0.09</td>\n",
       "    </tr>\n",
       "    <tr>\n",
       "      <th>1</th>\n",
       "      <td>0.12</td>\n",
       "    </tr>\n",
       "    <tr>\n",
       "      <th>2</th>\n",
       "      <td>0.15</td>\n",
       "    </tr>\n",
       "    <tr>\n",
       "      <th>3</th>\n",
       "      <td>0.06</td>\n",
       "    </tr>\n",
       "  </tbody>\n",
       "</table>\n",
       "</div>"
      ],
      "text/plain": [
       "      0\n",
       "0  0.09\n",
       "1  0.12\n",
       "2  0.15\n",
       "3  0.06"
      ]
     },
     "execution_count": 50,
     "metadata": {},
     "output_type": "execute_result"
    }
   ],
   "source": [
    "print(\"Expected return: \")\n",
    "pd.DataFrame(expected_returns).head()"
   ]
  },
  {
   "cell_type": "code",
   "execution_count": 51,
   "metadata": {},
   "outputs": [
    {
     "name": "stdout",
     "output_type": "stream",
     "text": [
      "\n",
      "Covariance: \n"
     ]
    },
    {
     "data": {
      "text/html": [
       "<div>\n",
       "<style scoped>\n",
       "    .dataframe tbody tr th:only-of-type {\n",
       "        vertical-align: middle;\n",
       "    }\n",
       "\n",
       "    .dataframe tbody tr th {\n",
       "        vertical-align: top;\n",
       "    }\n",
       "\n",
       "    .dataframe thead th {\n",
       "        text-align: right;\n",
       "    }\n",
       "</style>\n",
       "<table border=\"1\" class=\"dataframe\">\n",
       "  <thead>\n",
       "    <tr style=\"text-align: right;\">\n",
       "      <th></th>\n",
       "      <th>0</th>\n",
       "      <th>1</th>\n",
       "      <th>2</th>\n",
       "      <th>3</th>\n",
       "    </tr>\n",
       "  </thead>\n",
       "  <tbody>\n",
       "    <tr>\n",
       "      <th>0</th>\n",
       "      <td>0.0</td>\n",
       "      <td>-0.5</td>\n",
       "      <td>0.35</td>\n",
       "      <td>0.0</td>\n",
       "    </tr>\n",
       "    <tr>\n",
       "      <th>1</th>\n",
       "      <td>0.0</td>\n",
       "      <td>0.0</td>\n",
       "      <td>0.25</td>\n",
       "      <td>0.0</td>\n",
       "    </tr>\n",
       "    <tr>\n",
       "      <th>2</th>\n",
       "      <td>0.0</td>\n",
       "      <td>0.0</td>\n",
       "      <td>0.00</td>\n",
       "      <td>0.0</td>\n",
       "    </tr>\n",
       "    <tr>\n",
       "      <th>3</th>\n",
       "      <td>0.0</td>\n",
       "      <td>0.0</td>\n",
       "      <td>0.00</td>\n",
       "      <td>0.0</td>\n",
       "    </tr>\n",
       "  </tbody>\n",
       "</table>\n",
       "</div>"
      ],
      "text/plain": [
       "     0    1     2    3\n",
       "0  0.0 -0.5  0.35  0.0\n",
       "1  0.0  0.0  0.25  0.0\n",
       "2  0.0  0.0  0.00  0.0\n",
       "3  0.0  0.0  0.00  0.0"
      ]
     },
     "execution_count": 51,
     "metadata": {},
     "output_type": "execute_result"
    }
   ],
   "source": [
    "print(\"\\nCovariance: \")\n",
    "pd.DataFrame(cov_matrix).head()"
   ]
  },
  {
   "cell_type": "markdown",
   "metadata": {},
   "source": [
    "* Setting"
   ]
  },
  {
   "cell_type": "code",
   "execution_count": 63,
   "metadata": {},
   "outputs": [],
   "source": [
    "desired_variance = 0.1\n",
    "num_assets = len(expected_returns)\n",
    "\n",
    "# Utils\n",
    "def portfolio_return(weights):\n",
    "    return np.dot(weights, expected_returns)\n",
    "\n",
    "def portfolio_variance(weights, means, std_devs, correlations):\n",
    "    num_assets = len(weights)\n",
    "    variance = 0\n",
    "\n",
    "    # Compute the squared product of weights and means for each asset\n",
    "    weighted_mean_squared = np.square(weights) * np.square(means)\n",
    "    variance += np.sum(weighted_mean_squared)\n",
    "    \n",
    "    # Compute the covariance terms\n",
    "    for i in range(num_assets):\n",
    "        for j in range(i + 1, num_assets):\n",
    "            covariance_term = 2 * weights[i] * weights[j] * std_devs[i] * std_devs[j] * correlations[i, j]\n",
    "            variance += covariance_term\n",
    "    \n",
    "    return variance\n",
    "#def portfolio_variance(weights):\n",
    "#    return np.dot(weights.T, np.dot(cov_matrix, weights))\n",
    "\n",
    "def negative_portfolio_return(weights):\n",
    "    return -portfolio_return(weights)"
   ]
  },
  {
   "cell_type": "markdown",
   "metadata": {},
   "source": [
    "* Constraint"
   ]
  },
  {
   "cell_type": "code",
   "execution_count": 64,
   "metadata": {},
   "outputs": [],
   "source": [
    "# Constraints\n",
    "constraints = (\n",
    "    {'type': 'eq', 'fun': lambda weights: np.sum(weights) - 1},\n",
    "    {'type': 'eq', 'fun': lambda weights: portfolio_variance(weights, expected_returns, var, cov_matrix) - desired_variance}\n",
    ")"
   ]
  },
  {
   "cell_type": "markdown",
   "metadata": {},
   "source": [
    "* Solving"
   ]
  },
  {
   "cell_type": "code",
   "execution_count": 65,
   "metadata": {},
   "outputs": [
    {
     "name": "stdout",
     "output_type": "stream",
     "text": [
      "1.0000000000095766\n",
      "Optimal Weights: [1.69187877e-16 2.40377709e-01 7.59622291e-01 4.24545738e-18]\n",
      "Expected Portfolio Return: 0.14278866872169155\n",
      "Portfolio Variance: 0.0234014423073965\n"
     ]
    }
   ],
   "source": [
    "# Bounds for weights (between 0 and 1)\n",
    "bounds = tuple((0, 1) for asset in range(num_assets))\n",
    "\n",
    "# Initial guess (equal distribution)\n",
    "initial_guess = num_assets * [1. / num_assets]\n",
    "\n",
    "# Optimization\n",
    "result = minimize(\n",
    "    negative_portfolio_return,\n",
    "    initial_guess,\n",
    "    method='SLSQP',\n",
    "    bounds=bounds,\n",
    "    constraints=constraints\n",
    ")\n",
    "\n",
    "# Optimal weights\n",
    "optimal_weights  = result.x\n",
    "optimal_return   = portfolio_return(optimal_weights)\n",
    "optimal_variance = portfolio_variance(optimal_weights, expected_returns, var, cov_matrix)\n",
    "\n",
    "print(np.sum(optimal_weights))\n",
    "print(\"Optimal Weights:\", optimal_weights)\n",
    "print(\"Expected Portfolio Return:\", optimal_return)\n",
    "print(\"Portfolio Variance:\", optimal_variance)\n"
   ]
  },
  {
   "cell_type": "code",
   "execution_count": null,
   "metadata": {},
   "outputs": [],
   "source": []
  }
 ],
 "metadata": {
  "kernelspec": {
   "display_name": "base",
   "language": "python",
   "name": "python3"
  },
  "language_info": {
   "codemirror_mode": {
    "name": "ipython",
    "version": 3
   },
   "file_extension": ".py",
   "mimetype": "text/x-python",
   "name": "python",
   "nbconvert_exporter": "python",
   "pygments_lexer": "ipython3",
   "version": "3.11.7"
  },
  "orig_nbformat": 4
 },
 "nbformat": 4,
 "nbformat_minor": 2
}
